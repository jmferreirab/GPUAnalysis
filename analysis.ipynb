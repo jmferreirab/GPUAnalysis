{
 "cells": [
  {
   "cell_type": "markdown",
   "metadata": {},
   "source": [
    "# Contents\n",
    "\n",
    "### 1. A1111 Webui Benchmark data preparation and analysis\n",
    "\n",
    "- Load Automatic1111 webui benchmark data \n",
    "- Narrow down relevant columns\n",
    "- Visualize the distribution of the dates of the benchmarks (histogram)\n",
    "- Extract individual scores from scores column\n",
    "- Extract GPU model and RAM\n",
    "- Remove worst performing GPUs by selecting bottom 20, then dropping them to narrow scope.\n",
    "- Remove specific GPU references with str.contains to narrow scope to AMD and Nvidia consumer GPUs.\n",
    "- Remove additional GPUs using a manually generated blacklist (remove non-consumer grade GPUs).\n",
    "\n",
    "### 2. A1111 Webui Benchmark data visualization\n",
    "\n",
    "- Data visualizations for \n",
    "\n",
    "    - Average performance across benchmarks from the maximum score per benchmark\n",
    "    - Maximum performance across benchmarks from the maximum score per benchmark\n",
    "\n",
    "### 3. Analysis for performance vs price\n",
    "\n",
    "- Load price data and visualize price per GPU\n",
    "- Merge price and benchmarks to get performance / price ratio.\n",
    "- Visualize performance to price ratio per GPU with color scale based off price.\n",
    "- Visualize iterations per second per GPU with color scale based off price.\n",
    "- Visualize seconds to generate an 512x512 image with 25 steps with color scale based off price.\n",
    "\n",
    "### 4. References to work by other authors\n",
    "\n",
    "### 5.Conclusions"
   ]
  },
  {
   "cell_type": "markdown",
   "metadata": {},
   "source": [
    "***\n",
    "\n",
    "**Disclaimer.** Please note that price data was gathered manually by using Amazon prices as reference on July 16, 2023. These prices are constantly changing, therefore, other analysis may show slightly different results."
   ]
  },
  {
   "cell_type": "markdown",
   "metadata": {},
   "source": [
    "Import required libraries"
   ]
  },
  {
   "cell_type": "code",
   "execution_count": null,
   "metadata": {},
   "outputs": [],
   "source": [
    "import pandas as pd\n",
    "import matplotlib.pyplot as plt\n",
    "import seaborn as sns\n",
    "import json\n",
    "\n",
    "output_dir = \"./output/\"\n",
    "data_dir = \"./data/\"\n",
    "\n",
    "%matplotlib inline\n",
    "plt.style.use(\"seaborn-v0_8-darkgrid\")\n",
    "sns.set_theme(style=\"darkgrid\")\n",
    "\n",
    "pd.set_option('display.max_rows', 100)\n",
    "\n",
    "pd.options.plotting.backend = \"matplotlib\"\n",
    "pd.options.mode.chained_assignment = None  # default='warn'"
   ]
  },
  {
   "cell_type": "markdown",
   "metadata": {},
   "source": [
    "Add a simple method to aid with filename standardization"
   ]
  },
  {
   "cell_type": "code",
   "execution_count": 2,
   "metadata": {},
   "outputs": [],
   "source": [
    "import re\n",
    "\n",
    "def simplify_name(name):\n",
    "    \"\"\" Convert a name to a partial slug, preserving unicode \"\"\"\n",
    "\n",
    "    # spaces / non alphanumeric -> \"-\"\n",
    "    return re.sub(r'\\W+', '-', name).strip('-').lower()\n",
    "\n",
    "def prepare_image_path(name: str, format = \"png\"):\n",
    "    \"\"\" Prepare a filepath based on the name with the desired route \"\"\"\n",
    "\n",
    "    return f\"{output_dir}/figures/{simplify_name(name)}.{format}\"\n"
   ]
  },
  {
   "cell_type": "markdown",
   "metadata": {},
   "source": [
    "Import available GPU benchmark data from .json"
   ]
  },
  {
   "cell_type": "code",
   "execution_count": 3,
   "metadata": {},
   "outputs": [],
   "source": [
    "with open(f\"{data_dir}/benchmark-raw-july.json\", encoding=\"utf-8\") as datafile:\n",
    "    data = json.load(datafile)"
   ]
  },
  {
   "cell_type": "code",
   "execution_count": 4,
   "metadata": {},
   "outputs": [
    {
     "data": {
      "application/vnd.microsoft.datawrangler.viewer.v0+json": {
       "columns": [
        {
         "name": "index",
         "rawType": "int64",
         "type": "integer"
        },
        {
         "name": "id",
         "rawType": "object",
         "type": "string"
        },
        {
         "name": "program",
         "rawType": "object",
         "type": "string"
        },
        {
         "name": "message",
         "rawType": "object",
         "type": "string"
        },
        {
         "name": "generated_at",
         "rawType": "object",
         "type": "string"
        },
        {
         "name": "source_id",
         "rawType": "int64",
         "type": "integer"
        }
       ],
       "ref": "6e4cf382-f920-4209-ac35-f9eb767d958f",
       "rows": [
        [
         "0",
         "1564370541899603981",
         "SDBENCHMARK",
         "vlado 2023-02-20 11:56:43.428913|7.2 / 8.1 / 8.84|updated:2023-02-19 hash:fc3e9e5d url:https://github.com/vladmandic/automatic/tree/master|host:wsl arch:x86_64 cpu:x86_64 system:Linux release:5.15.90.1-microsoft-standard-WSL2 python:3.10.6|torch:2.0.0.dev20230211+cu118 autocast half xformers:0.0.17+12c076d.d20230211 accelerate:0.16.0 transformers:4.26.1|device:NVIDIA GeForce RTX 3060 (1) (sm_90) (8, 6) cuda:11.8 cudnn:8700 12GB|xformers none|sd-v15-runwayml.ckpt [cc6cb27103]|vlado||88abf4|4bb7e0 ",
         "2023-02-20T06:57:04-05:00",
         "13744943742"
        ],
        [
         "1",
         "1564384811064422401",
         "SDBENCHMARK",
         "lee 2023-02-20 12:53:35.026828|12.99 / 15.54 / 16.28|updated:2023-02-20 hash:09ff8cd2 url:https://github.com/vladmandic/automatic/tree/master|host:LEE-GENTRY arch:x86_64 cpu:x86_64 system:Linux release:5.10.16.3-microsoft-standard-WSL2 python:3.10.6|torch:1.13.1+cu116 autocast half xformers:0.0.16rc425 accelerate:0.16.0 transformers:4.26.1|device:NVIDIA GeForce RTX 3080 (1) (sm_86) (8, 6) cuda:11.6 cudnn:8700 10GB|xformers none|sd-v15-runwayml.ckpt [cc6cb27103]|lee||ad789d|57b96b ",
         "2023-02-20T07:53:45-05:00",
         "13745046228"
        ],
        [
         "2",
         "1564410893817790468",
         "SDBENCHMARK",
         "bruno 2023-02-20 10:22:36.948038|6.71 / 7.57 / 8.2|updated:2023-02-20 hash:0cc0ee1 url:https://github.com/AUTOMATIC1111/stable-diffusion-webui/tree/master|host:5900X arch:AMD64 cpu:AMD64 Family 25 Model 33 Stepping 2, AuthenticAMD system:Windows release:Windows-10-10.0.22621-SP0 python:3.10.6|torch:1.13.1+cu117 autocast half xformers:0.0.16rc425 accelerate:0.12.0 transformers:4.25.1|device:NVIDIA GeForce RTX 3060 (1) (compute_37) (8, 6) cuda:11.7 cudnn:8500|xformers none|SD15\\-=REALISM=-\\Deliberate\\deliberate_v11.safetensors [57d103206a]|||d4449|a1c265 ",
         "2023-02-20T11:37:24-05:00",
         "13745116355"
        ],
        [
         "3",
         "1564410893842956294",
         "SDBENCHMARK",
         "bruno 2023-02-20 16:36:33.100836|6.6 / 7.55 / 8.14|updated:2023-02-20 hash:0cc0ee1 url:https://github.com/AUTOMATIC1111/stable-diffusion-webui/tree/master|host:5900X arch:AMD64 cpu:AMD64 Family 25 Model 33 Stepping 2, AuthenticAMD system:Windows release:Windows-10-10.0.22621-SP0 python:3.10.6|torch:1.13.1+cu117 autocast half xformers:0.0.16rc425 accelerate:0.12.0 transformers:4.25.1|device:NVIDIA GeForce RTX 3060 (1) (compute_37) (8, 6) cuda:11.7 cudnn:8500 12GB|xformers none|SD15\\-=REALISM=-\\Deliberate\\deliberate_v11.safetensors [57d103206a]|bruno||d4449f|eb2008 ",
         "2023-02-20T11:37:24-05:00",
         "13745116355"
        ],
        [
         "4",
         "1564413446202769420",
         "SDBENCHMARK",
         "Eljoseto 2023-02-19 13:10:54.164023|5.8 / 6.71 / 7.54||host:BLACKBOX arch:AMD64 cpu:AMD64 Family 23 Model 113 Stepping 0, AuthenticAMD system:Windows release:Windows-10-10.0.19044-SP0 python:3.10.10|torch:1.13.1+cu117 autocast half xformers:0.0.16rc425 accelerate:0.12.0 transformers:4.25.1|device:NVIDIA GeForce RTX 3060 (1) (compute_37) (8, 6) cuda:11.7 cudnn:8600|xformers none|ACUSTOMMIX_base4_in12.safetensors [64e0e93a17]|Eljoseto|test|092e6|d5fd5c ",
         "2023-02-20T11:47:33-05:00",
         "13745122479"
        ]
       ],
       "shape": {
        "columns": 5,
        "rows": 5
       }
      },
      "text/html": [
       "<div>\n",
       "<style scoped>\n",
       "    .dataframe tbody tr th:only-of-type {\n",
       "        vertical-align: middle;\n",
       "    }\n",
       "\n",
       "    .dataframe tbody tr th {\n",
       "        vertical-align: top;\n",
       "    }\n",
       "\n",
       "    .dataframe thead th {\n",
       "        text-align: right;\n",
       "    }\n",
       "</style>\n",
       "<table border=\"1\" class=\"dataframe\">\n",
       "  <thead>\n",
       "    <tr style=\"text-align: right;\">\n",
       "      <th></th>\n",
       "      <th>id</th>\n",
       "      <th>program</th>\n",
       "      <th>message</th>\n",
       "      <th>generated_at</th>\n",
       "      <th>source_id</th>\n",
       "    </tr>\n",
       "  </thead>\n",
       "  <tbody>\n",
       "    <tr>\n",
       "      <th>0</th>\n",
       "      <td>1564370541899603981</td>\n",
       "      <td>SDBENCHMARK</td>\n",
       "      <td>vlado 2023-02-20 11:56:43.428913|7.2 / 8.1 / 8...</td>\n",
       "      <td>2023-02-20T06:57:04-05:00</td>\n",
       "      <td>13744943742</td>\n",
       "    </tr>\n",
       "    <tr>\n",
       "      <th>1</th>\n",
       "      <td>1564384811064422401</td>\n",
       "      <td>SDBENCHMARK</td>\n",
       "      <td>lee 2023-02-20 12:53:35.026828|12.99 / 15.54 /...</td>\n",
       "      <td>2023-02-20T07:53:45-05:00</td>\n",
       "      <td>13745046228</td>\n",
       "    </tr>\n",
       "    <tr>\n",
       "      <th>2</th>\n",
       "      <td>1564410893817790468</td>\n",
       "      <td>SDBENCHMARK</td>\n",
       "      <td>bruno 2023-02-20 10:22:36.948038|6.71 / 7.57 /...</td>\n",
       "      <td>2023-02-20T11:37:24-05:00</td>\n",
       "      <td>13745116355</td>\n",
       "    </tr>\n",
       "    <tr>\n",
       "      <th>3</th>\n",
       "      <td>1564410893842956294</td>\n",
       "      <td>SDBENCHMARK</td>\n",
       "      <td>bruno 2023-02-20 16:36:33.100836|6.6 / 7.55 / ...</td>\n",
       "      <td>2023-02-20T11:37:24-05:00</td>\n",
       "      <td>13745116355</td>\n",
       "    </tr>\n",
       "    <tr>\n",
       "      <th>4</th>\n",
       "      <td>1564413446202769420</td>\n",
       "      <td>SDBENCHMARK</td>\n",
       "      <td>Eljoseto 2023-02-19 13:10:54.164023|5.8 / 6.71...</td>\n",
       "      <td>2023-02-20T11:47:33-05:00</td>\n",
       "      <td>13745122479</td>\n",
       "    </tr>\n",
       "  </tbody>\n",
       "</table>\n",
       "</div>"
      ],
      "text/plain": [
       "                    id      program  \\\n",
       "0  1564370541899603981  SDBENCHMARK   \n",
       "1  1564384811064422401  SDBENCHMARK   \n",
       "2  1564410893817790468  SDBENCHMARK   \n",
       "3  1564410893842956294  SDBENCHMARK   \n",
       "4  1564413446202769420  SDBENCHMARK   \n",
       "\n",
       "                                             message  \\\n",
       "0  vlado 2023-02-20 11:56:43.428913|7.2 / 8.1 / 8...   \n",
       "1  lee 2023-02-20 12:53:35.026828|12.99 / 15.54 /...   \n",
       "2  bruno 2023-02-20 10:22:36.948038|6.71 / 7.57 /...   \n",
       "3  bruno 2023-02-20 16:36:33.100836|6.6 / 7.55 / ...   \n",
       "4  Eljoseto 2023-02-19 13:10:54.164023|5.8 / 6.71...   \n",
       "\n",
       "                generated_at    source_id  \n",
       "0  2023-02-20T06:57:04-05:00  13744943742  \n",
       "1  2023-02-20T07:53:45-05:00  13745046228  \n",
       "2  2023-02-20T11:37:24-05:00  13745116355  \n",
       "3  2023-02-20T11:37:24-05:00  13745116355  \n",
       "4  2023-02-20T11:47:33-05:00  13745122479  "
      ]
     },
     "execution_count": 4,
     "metadata": {},
     "output_type": "execute_result"
    }
   ],
   "source": [
    "df = pd.DataFrame(data['events'])\n",
    "df.head()"
   ]
  },
  {
   "cell_type": "markdown",
   "metadata": {},
   "source": [
    "Get a DataFrame directly from the json data, drop irrelevant columns\n",
    "\n",
    "- message (in csv form), expand then drop original\n",
    "- program\n",
    "- id (irrelevant UUID)\n",
    "- source_id"
   ]
  },
  {
   "cell_type": "code",
   "execution_count": 5,
   "metadata": {},
   "outputs": [],
   "source": [
    "df.drop(columns=[\"program\",\"id\",\"source_id\"], inplace=True)"
   ]
  },
  {
   "cell_type": "code",
   "execution_count": 6,
   "metadata": {},
   "outputs": [
    {
     "data": {
      "text/plain": [
       "array(['', 'test', 'Test2', 'GPU offset: +150 MHz; VRAM offset: +2000MHz',\n",
       "       'w/ medvram'], dtype=object)"
      ]
     },
     "execution_count": 6,
     "metadata": {},
     "output_type": "execute_result"
    }
   ],
   "source": [
    "# Create a DataFrame from the parsed data. Faster than looping and deleting manually.\n",
    "expanded = df['message'].str.split('|', expand=True)\n",
    "expanded.loc[:,9].unique()[:5]\n"
   ]
  },
  {
   "cell_type": "code",
   "execution_count": 7,
   "metadata": {},
   "outputs": [
    {
     "data": {
      "application/vnd.microsoft.datawrangler.viewer.v0+json": {
       "columns": [
        {
         "name": "index",
         "rawType": "int64",
         "type": "integer"
        },
        {
         "name": "generated_at",
         "rawType": "object",
         "type": "string"
        },
        {
         "name": "scores",
         "rawType": "object",
         "type": "string"
        },
        {
         "name": "sdver",
         "rawType": "object",
         "type": "string"
        },
        {
         "name": "sysinfo",
         "rawType": "object",
         "type": "string"
        },
        {
         "name": "torch",
         "rawType": "object",
         "type": "string"
        },
        {
         "name": "gpu",
         "rawType": "object",
         "type": "string"
        },
        {
         "name": "xformers",
         "rawType": "object",
         "type": "string"
        },
        {
         "name": "model",
         "rawType": "object",
         "type": "string"
        },
        {
         "name": "comments",
         "rawType": "object",
         "type": "string"
        },
        {
         "name": "user",
         "rawType": "object",
         "type": "string"
        }
       ],
       "ref": "33089b0a-0b09-49ae-9567-cd34d31fb66f",
       "rows": [
        [
         "0",
         "2023-02-20T06:57:04-05:00",
         "7.2 / 8.1 / 8.84",
         "updated:2023-02-19 hash:fc3e9e5d url:https://github.com/vladmandic/automatic/tree/master",
         "host:wsl arch:x86_64 cpu:x86_64 system:Linux release:5.15.90.1-microsoft-standard-WSL2 python:3.10.6",
         "torch:2.0.0.dev20230211+cu118 autocast half xformers:0.0.17+12c076d.d20230211 accelerate:0.16.0 transformers:4.26.1",
         "device:NVIDIA GeForce RTX 3060 (1) (sm_90) (8, 6) cuda:11.8 cudnn:8700 12GB",
         "xformers none",
         "sd-v15-runwayml.ckpt [cc6cb27103]",
         "",
         "vlado"
        ]
       ],
       "shape": {
        "columns": 10,
        "rows": 1
       }
      },
      "text/html": [
       "<div>\n",
       "<style scoped>\n",
       "    .dataframe tbody tr th:only-of-type {\n",
       "        vertical-align: middle;\n",
       "    }\n",
       "\n",
       "    .dataframe tbody tr th {\n",
       "        vertical-align: top;\n",
       "    }\n",
       "\n",
       "    .dataframe thead th {\n",
       "        text-align: right;\n",
       "    }\n",
       "</style>\n",
       "<table border=\"1\" class=\"dataframe\">\n",
       "  <thead>\n",
       "    <tr style=\"text-align: right;\">\n",
       "      <th></th>\n",
       "      <th>generated_at</th>\n",
       "      <th>scores</th>\n",
       "      <th>sdver</th>\n",
       "      <th>sysinfo</th>\n",
       "      <th>torch</th>\n",
       "      <th>gpu</th>\n",
       "      <th>xformers</th>\n",
       "      <th>model</th>\n",
       "      <th>comments</th>\n",
       "      <th>user</th>\n",
       "    </tr>\n",
       "  </thead>\n",
       "  <tbody>\n",
       "    <tr>\n",
       "      <th>0</th>\n",
       "      <td>2023-02-20T06:57:04-05:00</td>\n",
       "      <td>7.2 / 8.1 / 8.84</td>\n",
       "      <td>updated:2023-02-19 hash:fc3e9e5d url:https://g...</td>\n",
       "      <td>host:wsl arch:x86_64 cpu:x86_64 system:Linux r...</td>\n",
       "      <td>torch:2.0.0.dev20230211+cu118 autocast half xf...</td>\n",
       "      <td>device:NVIDIA GeForce RTX 3060 (1) (sm_90) (8,...</td>\n",
       "      <td>xformers none</td>\n",
       "      <td>sd-v15-runwayml.ckpt [cc6cb27103]</td>\n",
       "      <td></td>\n",
       "      <td>vlado</td>\n",
       "    </tr>\n",
       "  </tbody>\n",
       "</table>\n",
       "</div>"
      ],
      "text/plain": [
       "                generated_at            scores  \\\n",
       "0  2023-02-20T06:57:04-05:00  7.2 / 8.1 / 8.84   \n",
       "\n",
       "                                               sdver  \\\n",
       "0  updated:2023-02-19 hash:fc3e9e5d url:https://g...   \n",
       "\n",
       "                                             sysinfo  \\\n",
       "0  host:wsl arch:x86_64 cpu:x86_64 system:Linux r...   \n",
       "\n",
       "                                               torch  \\\n",
       "0  torch:2.0.0.dev20230211+cu118 autocast half xf...   \n",
       "\n",
       "                                                 gpu       xformers  \\\n",
       "0  device:NVIDIA GeForce RTX 3060 (1) (sm_90) (8,...  xformers none   \n",
       "\n",
       "                               model comments   user  \n",
       "0  sd-v15-runwayml.ckpt [cc6cb27103]           vlado  "
      ]
     },
     "execution_count": 7,
     "metadata": {},
     "output_type": "execute_result"
    }
   ],
   "source": [
    "expanded.columns = [\"timestamp\",\"scores\",\"sdver\",\"sysinfo\",\"torch\",\"gpu\", \"xformers\",\"model\",\"user\",\"comments\",\"val1\",\"val2\",\"val3\"]\n",
    "expanded = expanded[[\"scores\",\"sdver\",\"sysinfo\",\"torch\",\"gpu\", \"xformers\",\"model\",\"comments\",\"user\"]]\n",
    "\n",
    "df.drop(columns=[\"message\"], inplace=True)\n",
    "result = pd.concat([df, expanded], axis=1)\n",
    "result.head(1)"
   ]
  },
  {
   "cell_type": "code",
   "execution_count": 8,
   "metadata": {},
   "outputs": [
    {
     "name": "stdout",
     "output_type": "stream",
     "text": [
      "<class 'pandas.core.frame.DataFrame'>\n",
      "RangeIndex: 10683 entries, 0 to 10682\n",
      "Data columns (total 10 columns):\n",
      " #   Column        Non-Null Count  Dtype \n",
      "---  ------        --------------  ----- \n",
      " 0   generated_at  10683 non-null  object\n",
      " 1   scores        10683 non-null  object\n",
      " 2   sdver         10683 non-null  object\n",
      " 3   sysinfo       10683 non-null  object\n",
      " 4   torch         10683 non-null  object\n",
      " 5   gpu           10683 non-null  object\n",
      " 6   xformers      10683 non-null  object\n",
      " 7   model         10683 non-null  object\n",
      " 8   comments      10683 non-null  object\n",
      " 9   user          10683 non-null  object\n",
      "dtypes: object(10)\n",
      "memory usage: 834.7+ KB\n"
     ]
    },
    {
     "data": {
      "text/plain": [
       "'2023-02-20T06:57:04-05:00'"
      ]
     },
     "execution_count": 8,
     "metadata": {},
     "output_type": "execute_result"
    }
   ],
   "source": [
    "result.info()\n",
    "result.generated_at[0]"
   ]
  },
  {
   "cell_type": "code",
   "execution_count": 9,
   "metadata": {},
   "outputs": [
    {
     "name": "stderr",
     "output_type": "stream",
     "text": [
      "C:\\Users\\mferr\\AppData\\Local\\Temp\\ipykernel_11372\\3521491232.py:1: FutureWarning: In a future version of pandas, parsing datetimes with mixed time zones will raise an error unless `utc=True`. Please specify `utc=True` to opt in to the new behaviour and silence this warning. To create a `Series` with mixed offsets and `object` dtype, please use `apply` and `datetime.datetime.strptime`\n",
      "  result.generated_at = pd.to_datetime(result.generated_at).apply(lambda x: x.date())\n"
     ]
    },
    {
     "data": {
      "text/plain": [
       "datetime.date(2023, 2, 20)"
      ]
     },
     "execution_count": 9,
     "metadata": {},
     "output_type": "execute_result"
    }
   ],
   "source": [
    "result.generated_at = pd.to_datetime(result.generated_at).apply(lambda x: x.date())\n",
    "result.generated_at[0]"
   ]
  },
  {
   "cell_type": "markdown",
   "metadata": {},
   "source": [
    "Check how recent the data is to gauge how relevant the results will be.\n",
    "\n",
    "As SD is constantly in development, older benchmarks may not provide a full understanding of gpu performance"
   ]
  },
  {
   "cell_type": "code",
   "execution_count": 10,
   "metadata": {},
   "outputs": [
    {
     "data": {
      "image/png": "[encoded data removed]",
      "text/plain": [
       "<Figure size 1200x400 with 1 Axes>"
      ]
     },
     "metadata": {},
     "output_type": "display_data"
    }
   ],
   "source": [
    "plt.figure(figsize=(12, 4))\n",
    "ax = result.generated_at.hist(grid=True, facecolor = 'royalblue', edgecolor='#000000', linewidth=0.5, density=False)\n",
    "ax.set_title(\"Distribution of benchmarks across date\", size = 15, pad = 10)\n",
    "ax.set_ylabel(\"Frequency\")\n",
    "plt.show()"
   ]
  },
  {
   "cell_type": "markdown",
   "metadata": {},
   "source": [
    "Expand results column into individual columns"
   ]
  },
  {
   "cell_type": "code",
   "execution_count": 11,
   "metadata": {},
   "outputs": [
    {
     "data": {
      "application/vnd.microsoft.datawrangler.viewer.v0+json": {
       "columns": [
        {
         "name": "index",
         "rawType": "int64",
         "type": "integer"
        },
        {
         "name": "generated_at",
         "rawType": "object",
         "type": "unknown"
        },
        {
         "name": "sdver",
         "rawType": "object",
         "type": "string"
        },
        {
         "name": "sysinfo",
         "rawType": "object",
         "type": "string"
        },
        {
         "name": "torch",
         "rawType": "object",
         "type": "string"
        },
        {
         "name": "gpu",
         "rawType": "object",
         "type": "string"
        },
        {
         "name": "xformers",
         "rawType": "object",
         "type": "string"
        },
        {
         "name": "model",
         "rawType": "object",
         "type": "string"
        },
        {
         "name": "comments",
         "rawType": "object",
         "type": "string"
        },
        {
         "name": "user",
         "rawType": "object",
         "type": "string"
        },
        {
         "name": "score_1",
         "rawType": "float64",
         "type": "float"
        },
        {
         "name": "score_2",
         "rawType": "float64",
         "type": "float"
        },
        {
         "name": "score_3",
         "rawType": "float64",
         "type": "float"
        },
        {
         "name": "score_4",
         "rawType": "float64",
         "type": "float"
        },
        {
         "name": "score_5",
         "rawType": "float64",
         "type": "float"
        },
        {
         "name": "best_score",
         "rawType": "float64",
         "type": "float"
        },
        {
         "name": "mean_score",
         "rawType": "float64",
         "type": "float"
        }
       ],
       "ref": "8cfcb006-63b5-4fe8-a66c-78a303866b00",
       "rows": [
        [
         "0",
         "2023-02-20",
         "updated:2023-02-19 hash:fc3e9e5d url:https://github.com/vladmandic/automatic/tree/master",
         "host:wsl arch:x86_64 cpu:x86_64 system:Linux release:5.15.90.1-microsoft-standard-WSL2 python:3.10.6",
         "torch:2.0.0.dev20230211+cu118 autocast half xformers:0.0.17+12c076d.d20230211 accelerate:0.16.0 transformers:4.26.1",
         "device:NVIDIA GeForce RTX 3060 (1) (sm_90) (8, 6) cuda:11.8 cudnn:8700 12GB",
         "xformers none",
         "sd-v15-runwayml.ckpt [cc6cb27103]",
         "",
         "vlado",
         "7.2",
         "8.1",
         "8.84",
         null,
         null,
         "8.84",
         "8.245000000000001"
        ]
       ],
       "shape": {
        "columns": 16,
        "rows": 1
       }
      },
      "text/html": [
       "<div>\n",
       "<style scoped>\n",
       "    .dataframe tbody tr th:only-of-type {\n",
       "        vertical-align: middle;\n",
       "    }\n",
       "\n",
       "    .dataframe tbody tr th {\n",
       "        vertical-align: top;\n",
       "    }\n",
       "\n",
       "    .dataframe thead th {\n",
       "        text-align: right;\n",
       "    }\n",
       "</style>\n",
       "<table border=\"1\" class=\"dataframe\">\n",
       "  <thead>\n",
       "    <tr style=\"text-align: right;\">\n",
       "      <th></th>\n",
       "      <th>generated_at</th>\n",
       "      <th>sdver</th>\n",
       "      <th>sysinfo</th>\n",
       "      <th>torch</th>\n",
       "      <th>gpu</th>\n",
       "      <th>xformers</th>\n",
       "      <th>model</th>\n",
       "      <th>comments</th>\n",
       "      <th>user</th>\n",
       "      <th>score_1</th>\n",
       "      <th>score_2</th>\n",
       "      <th>score_3</th>\n",
       "      <th>score_4</th>\n",
       "      <th>score_5</th>\n",
       "      <th>best_score</th>\n",
       "      <th>mean_score</th>\n",
       "    </tr>\n",
       "  </thead>\n",
       "  <tbody>\n",
       "    <tr>\n",
       "      <th>0</th>\n",
       "      <td>2023-02-20</td>\n",
       "      <td>updated:2023-02-19 hash:fc3e9e5d url:https://g...</td>\n",
       "      <td>host:wsl arch:x86_64 cpu:x86_64 system:Linux r...</td>\n",
       "      <td>torch:2.0.0.dev20230211+cu118 autocast half xf...</td>\n",
       "      <td>device:NVIDIA GeForce RTX 3060 (1) (sm_90) (8,...</td>\n",
       "      <td>xformers none</td>\n",
       "      <td>sd-v15-runwayml.ckpt [cc6cb27103]</td>\n",
       "      <td></td>\n",
       "      <td>vlado</td>\n",
       "      <td>7.2</td>\n",
       "      <td>8.1</td>\n",
       "      <td>8.84</td>\n",
       "      <td>NaN</td>\n",
       "      <td>NaN</td>\n",
       "      <td>8.84</td>\n",
       "      <td>8.245</td>\n",
       "    </tr>\n",
       "  </tbody>\n",
       "</table>\n",
       "</div>"
      ],
      "text/plain": [
       "  generated_at                                              sdver  \\\n",
       "0   2023-02-20  updated:2023-02-19 hash:fc3e9e5d url:https://g...   \n",
       "\n",
       "                                             sysinfo  \\\n",
       "0  host:wsl arch:x86_64 cpu:x86_64 system:Linux r...   \n",
       "\n",
       "                                               torch  \\\n",
       "0  torch:2.0.0.dev20230211+cu118 autocast half xf...   \n",
       "\n",
       "                                                 gpu       xformers  \\\n",
       "0  device:NVIDIA GeForce RTX 3060 (1) (sm_90) (8,...  xformers none   \n",
       "\n",
       "                               model comments   user  score_1  score_2  \\\n",
       "0  sd-v15-runwayml.ckpt [cc6cb27103]           vlado      7.2      8.1   \n",
       "\n",
       "   score_3  score_4  score_5  best_score  mean_score  \n",
       "0     8.84      NaN      NaN        8.84       8.245  "
      ]
     },
     "execution_count": 11,
     "metadata": {},
     "output_type": "execute_result"
    }
   ],
   "source": [
    "# Extract benchmark scores from the message field\n",
    "scores = result['scores'].str.split(' / ', expand=True).apply(pd.to_numeric, errors=\"coerce\")\n",
    "result.drop(columns=[\"scores\"], inplace=True)\n",
    "scores.columns = [f'score_{i+1}' for i in range(scores.shape[1])]\n",
    "# Calculate the mean benchmark score for each row\n",
    "scores['best_score'] = scores.max(axis=1) \n",
    "scores['mean_score'] = scores.mean(axis=1) \n",
    "result = pd.concat([result, scores], axis=1)\n",
    "result.head(1)"
   ]
  },
  {
   "cell_type": "markdown",
   "metadata": {},
   "source": [
    "Extract the graphics card model "
   ]
  },
  {
   "cell_type": "code",
   "execution_count": 12,
   "metadata": {},
   "outputs": [],
   "source": [
    "result['model'] = result['gpu'].str.extract(r'device:(.+)')\n",
    "mod_series = result['gpu'].str.extract(r'((?:NVIDIA|Tesla|Quadro|AMD|Intel)(?:.*?))?\\(', expand=False)\n",
    "ram = result['gpu'].str.extract(r'(\\d+GB)', expand=False)\n",
    "result['mod'] = mod_series\n",
    "result['ram'] = ram\n",
    "result.dropna(subset=['mod'], inplace=True)\n",
    "\n",
    "# Define a function to fill missing VRAM values with the mode of non-missing values\n",
    "def fill_vram(group):\n",
    "    return group.fillna(group.mode().iloc[0])\n",
    "\n",
    "# Fill missing VRAM values by device name using most common value (mode)\n",
    "result[\"ram\"] = result.groupby('mod')['ram'].transform(fill_vram)\n",
    "\n",
    "result[\"device\"] = result[\"mod\"].str.strip() + \" | \" + result[\"ram\"].str.strip()\n",
    "\n",
    "result.drop(columns=[\"mod\",\"ram\",\"model\"])\n",
    "result.device.head()\n",
    "\n",
    "result.to_csv(f\"{output_dir}/processed_raw.csv\")\n"
   ]
  },
  {
   "cell_type": "markdown",
   "metadata": {},
   "source": [
    "Remove bottom 20 gpus by performance"
   ]
  },
  {
   "cell_type": "code",
   "execution_count": 13,
   "metadata": {},
   "outputs": [],
   "source": [
    "bottom_20_gpus = result.device.value_counts()[-20:]\n",
    "\n",
    "# for k,v in bottom_20_gpus.to_dict().items():\n",
    "#     print(f\"{k.ljust(60)} Entries {v}\")\n",
    "\n",
    "\n"
   ]
  },
  {
   "cell_type": "code",
   "execution_count": 14,
   "metadata": {},
   "outputs": [
    {
     "name": "stdout",
     "output_type": "stream",
     "text": [
      "132\n"
     ]
    },
    {
     "data": {
      "text/plain": [
       "array(['NVIDIA GeForce RTX 3060 | 12GB', 'NVIDIA GeForce RTX 3080 | 10GB',\n",
       "       'NVIDIA GeForce GTX 1070 | 8GB',\n",
       "       'NVIDIA GeForce GTX 1660 Ti | 6GB',\n",
       "       'NVIDIA GeForce GTX 1080 | 8GB', 'AMD Radeon RX 6750 XT | 12GB',\n",
       "       'NVIDIA GeForce RTX 2080 SUPER | 8GB',\n",
       "       'NVIDIA GeForce GTX 1060 6GB | 6GB',\n",
       "       'NVIDIA A100-SXM4-40GB | 40GB',\n",
       "       'NVIDIA GeForce RTX 2070 SUPER | 8GB',\n",
       "       'NVIDIA GeForce RTX 3080 Ti | 12GB',\n",
       "       'NVIDIA GeForce RTX 4090 | 24GB', 'NVIDIA GeForce RTX 3090 | 24GB',\n",
       "       'NVIDIA GeForce RTX 3080 | 12GB',\n",
       "       'NVIDIA GeForce RTX 2060 SUPER | 8GB',\n",
       "       'NVIDIA GeForce GTX 1080 Ti | 11GB',\n",
       "       'NVIDIA GeForce RTX 3070 | 8GB',\n",
       "       'NVIDIA GeForce RTX 3060 Laptop GPU | 6GB',\n",
       "       'NVIDIA GeForce RTX 3060 Ti | 8GB',\n",
       "       'NVIDIA GeForce RTX 2080 Ti | 11GB'], dtype=object)"
      ]
     },
     "execution_count": 14,
     "metadata": {},
     "output_type": "execute_result"
    }
   ],
   "source": [
    "mask = ~result.device.isin(bottom_20_gpus.index)\n",
    "df_fr1 = result[mask]\n",
    "\n",
    "print(df_fr1.device.nunique())\n",
    "df_fr1.device.unique()[:20]"
   ]
  },
  {
   "cell_type": "markdown",
   "metadata": {},
   "source": [
    "Try removing another bottom 40"
   ]
  },
  {
   "cell_type": "code",
   "execution_count": 15,
   "metadata": {},
   "outputs": [
    {
     "name": "stdout",
     "output_type": "stream",
     "text": [
      "92\n"
     ]
    },
    {
     "data": {
      "text/plain": [
       "array(['NVIDIA GeForce RTX 3060 | 12GB', 'NVIDIA GeForce RTX 3080 | 10GB',\n",
       "       'NVIDIA GeForce GTX 1070 | 8GB',\n",
       "       'NVIDIA GeForce GTX 1660 Ti | 6GB',\n",
       "       'NVIDIA GeForce GTX 1080 | 8GB', 'AMD Radeon RX 6750 XT | 12GB',\n",
       "       'NVIDIA GeForce RTX 2080 SUPER | 8GB',\n",
       "       'NVIDIA GeForce GTX 1060 6GB | 6GB',\n",
       "       'NVIDIA A100-SXM4-40GB | 40GB',\n",
       "       'NVIDIA GeForce RTX 2070 SUPER | 8GB',\n",
       "       'NVIDIA GeForce RTX 3080 Ti | 12GB',\n",
       "       'NVIDIA GeForce RTX 4090 | 24GB', 'NVIDIA GeForce RTX 3090 | 24GB',\n",
       "       'NVIDIA GeForce RTX 3080 | 12GB',\n",
       "       'NVIDIA GeForce RTX 2060 SUPER | 8GB',\n",
       "       'NVIDIA GeForce GTX 1080 Ti | 11GB',\n",
       "       'NVIDIA GeForce RTX 3070 | 8GB',\n",
       "       'NVIDIA GeForce RTX 3060 Laptop GPU | 6GB',\n",
       "       'NVIDIA GeForce RTX 3060 Ti | 8GB',\n",
       "       'NVIDIA GeForce RTX 2080 Ti | 11GB'], dtype=object)"
      ]
     },
     "execution_count": 15,
     "metadata": {},
     "output_type": "execute_result"
    }
   ],
   "source": [
    "bottom_40_gpus = df_fr1.device.value_counts()[-40:]\n",
    "\n",
    "# for k,v in bottom_40_gpus.to_dict().items():\n",
    "#     print(f\"{k.ljust(60)} Entries {v}\")\n",
    "\n",
    "mask = ~df_fr1.device.isin(bottom_40_gpus.index)\n",
    "df_res2 = df_fr1[mask]\n",
    "\n",
    "print(df_res2.device.nunique())\n",
    "df_res2.device.unique()[:20]"
   ]
  },
  {
   "cell_type": "markdown",
   "metadata": {},
   "source": [
    "Too many types of cards to analyze.\n",
    "\n",
    "- We are not interested in Tesla series as they required specific setup (in a server rack with special cooling)\n",
    "- There a multiple cards that are laptop models. These are not in the scope.\n"
   ]
  },
  {
   "cell_type": "code",
   "execution_count": 16,
   "metadata": {},
   "outputs": [
    {
     "data": {
      "text/plain": [
       "64"
      ]
     },
     "execution_count": 16,
     "metadata": {},
     "output_type": "execute_result"
    }
   ],
   "source": [
    "f1 = ~df_res2.device.str.contains('Laptop')\n",
    "f2 = ~df_res2.device.str.contains('Tesla')\n",
    "f3 = ~df_res2.device.str.contains('Quadro')\n",
    "f4 = ~df_res2.device.str.contains('Intel')\n",
    "f5 = ~df_res2.device.str.contains('Max-Q')\n",
    "f6 = ~df_res2.device.str.contains('NVIDIA H100')\n",
    "f7 = ~df_res2.device.str.contains('A4000')\n",
    "\n",
    "series_device = df_res2[f1 & f2 & f3 & f4 & f5 & f6 & f7].device\n",
    "df_res3 = df_res2[f1 & f2 & f3 & f4 & f5 & f6 & f7]\n",
    "len(series_device.unique())\n"
   ]
  },
  {
   "cell_type": "code",
   "execution_count": 17,
   "metadata": {},
   "outputs": [
    {
     "data": {
      "application/vnd.microsoft.datawrangler.viewer.v0+json": {
       "columns": [
        {
         "name": "device",
         "rawType": "object",
         "type": "string"
        },
        {
         "name": "count",
         "rawType": "int64",
         "type": "integer"
        }
       ],
       "ref": "552939db-d355-449a-b83f-bdca06a46a59",
       "rows": [
        [
         "NVIDIA GeForce RTX 4090 | 24GB",
         "3774"
        ],
        [
         "NVIDIA GeForce RTX 3060 | 12GB",
         "656"
        ],
        [
         "NVIDIA GeForce RTX 3090 | 24GB",
         "485"
        ],
        [
         "NVIDIA GeForce RTX 4070 Ti | 12GB",
         "453"
        ],
        [
         "NVIDIA GeForce RTX 3070 | 8GB",
         "356"
        ]
       ],
       "shape": {
        "columns": 1,
        "rows": 5
       }
      },
      "text/plain": [
       "device\n",
       "NVIDIA GeForce RTX 4090 | 24GB       3774\n",
       "NVIDIA GeForce RTX 3060 | 12GB        656\n",
       "NVIDIA GeForce RTX 3090 | 24GB        485\n",
       "NVIDIA GeForce RTX 4070 Ti | 12GB     453\n",
       "NVIDIA GeForce RTX 3070 | 8GB         356\n",
       "Name: count, dtype: int64"
      ]
     },
     "execution_count": 17,
     "metadata": {},
     "output_type": "execute_result"
    }
   ],
   "source": [
    "df_res3.device.value_counts().head()"
   ]
  },
  {
   "cell_type": "markdown",
   "metadata": {},
   "source": [
    "Visualize benchmark count per GPU.\n",
    "\n",
    "\n",
    "There are still too many GPUs, so we narrow down further the scope in the following steps."
   ]
  },
  {
   "cell_type": "code",
   "execution_count": 18,
   "metadata": {},
   "outputs": [
    {
     "data": {
      "image/png": "[encoded data removed]",
      "text/plain": [
       "<Figure size 1200x400 with 1 Axes>"
      ]
     },
     "metadata": {},
     "output_type": "display_data"
    }
   ],
   "source": [
    "sns.set(font_scale=0.8)\n",
    "ax = df_res3.device.value_counts().plot.bar(figsize=(12,4))\n",
    "sns.set(font_scale=1)"
   ]
  },
  {
   "cell_type": "markdown",
   "metadata": {},
   "source": [
    "Identify worst performers"
   ]
  },
  {
   "cell_type": "code",
   "execution_count": 19,
   "metadata": {},
   "outputs": [
    {
     "data": {
      "application/vnd.microsoft.datawrangler.viewer.v0+json": {
       "columns": [
        {
         "name": "device",
         "rawType": "object",
         "type": "string"
        },
        {
         "name": "best_score",
         "rawType": "float64",
         "type": "float"
        }
       ],
       "ref": "1902389f-74e2-42dc-a662-a313b6316a36",
       "rows": [
        [
         "NVIDIA GeForce GTX 1650 Ti | 4GB",
         "0.35"
        ],
        [
         "NVIDIA GeForce GTX 1650 | 4GB",
         "0.53"
        ],
        [
         "NVIDIA T600 | 4GB",
         "0.65"
        ],
        [
         "NVIDIA GeForce GTX 1050 Ti | 4GB",
         "1.04"
        ],
        [
         "NVIDIA GeForce GTX 1060 3GB | 3GB",
         "1.23"
        ],
        [
         "NVIDIA GeForce GTX 1060 | 6GB",
         "1.33"
        ],
        [
         "NVIDIA GeForce GTX 1660 | 6GB",
         "1.6"
        ],
        [
         "NVIDIA GeForce GTX 1060 6GB | 6GB",
         "1.83"
        ],
        [
         "AMD Radeon Pro WX 9100 | 16GB",
         "1.86"
        ],
        [
         "AMD Radeon RX Vega | 8GB",
         "1.93"
        ]
       ],
       "shape": {
        "columns": 1,
        "rows": 10
       }
      },
      "text/html": [
       "<div>\n",
       "<style scoped>\n",
       "    .dataframe tbody tr th:only-of-type {\n",
       "        vertical-align: middle;\n",
       "    }\n",
       "\n",
       "    .dataframe tbody tr th {\n",
       "        vertical-align: top;\n",
       "    }\n",
       "\n",
       "    .dataframe thead th {\n",
       "        text-align: right;\n",
       "    }\n",
       "</style>\n",
       "<table border=\"1\" class=\"dataframe\">\n",
       "  <thead>\n",
       "    <tr style=\"text-align: right;\">\n",
       "      <th></th>\n",
       "      <th>best_score</th>\n",
       "    </tr>\n",
       "    <tr>\n",
       "      <th>device</th>\n",
       "      <th></th>\n",
       "    </tr>\n",
       "  </thead>\n",
       "  <tbody>\n",
       "    <tr>\n",
       "      <th>NVIDIA GeForce GTX 1650 Ti | 4GB</th>\n",
       "      <td>0.35</td>\n",
       "    </tr>\n",
       "    <tr>\n",
       "      <th>NVIDIA GeForce GTX 1650 | 4GB</th>\n",
       "      <td>0.53</td>\n",
       "    </tr>\n",
       "    <tr>\n",
       "      <th>NVIDIA T600 | 4GB</th>\n",
       "      <td>0.65</td>\n",
       "    </tr>\n",
       "    <tr>\n",
       "      <th>NVIDIA GeForce GTX 1050 Ti | 4GB</th>\n",
       "      <td>1.04</td>\n",
       "    </tr>\n",
       "    <tr>\n",
       "      <th>NVIDIA GeForce GTX 1060 3GB | 3GB</th>\n",
       "      <td>1.23</td>\n",
       "    </tr>\n",
       "    <tr>\n",
       "      <th>NVIDIA GeForce GTX 1060 | 6GB</th>\n",
       "      <td>1.33</td>\n",
       "    </tr>\n",
       "    <tr>\n",
       "      <th>NVIDIA GeForce GTX 1660 | 6GB</th>\n",
       "      <td>1.60</td>\n",
       "    </tr>\n",
       "    <tr>\n",
       "      <th>NVIDIA GeForce GTX 1060 6GB | 6GB</th>\n",
       "      <td>1.83</td>\n",
       "    </tr>\n",
       "    <tr>\n",
       "      <th>AMD Radeon Pro WX 9100 | 16GB</th>\n",
       "      <td>1.86</td>\n",
       "    </tr>\n",
       "    <tr>\n",
       "      <th>AMD Radeon RX Vega | 8GB</th>\n",
       "      <td>1.93</td>\n",
       "    </tr>\n",
       "  </tbody>\n",
       "</table>\n",
       "</div>"
      ],
      "text/plain": [
       "                                   best_score\n",
       "device                                       \n",
       "NVIDIA GeForce GTX 1650 Ti | 4GB         0.35\n",
       "NVIDIA GeForce GTX 1650 | 4GB            0.53\n",
       "NVIDIA T600 | 4GB                        0.65\n",
       "NVIDIA GeForce GTX 1050 Ti | 4GB         1.04\n",
       "NVIDIA GeForce GTX 1060 3GB | 3GB        1.23\n",
       "NVIDIA GeForce GTX 1060 | 6GB            1.33\n",
       "NVIDIA GeForce GTX 1660 | 6GB            1.60\n",
       "NVIDIA GeForce GTX 1060 6GB | 6GB        1.83\n",
       "AMD Radeon Pro WX 9100 | 16GB            1.86\n",
       "AMD Radeon RX Vega | 8GB                 1.93"
      ]
     },
     "execution_count": 19,
     "metadata": {},
     "output_type": "execute_result"
    }
   ],
   "source": [
    "df_res3[['device','best_score']].groupby('device').max().sort_values('best_score')[:10]"
   ]
  },
  {
   "cell_type": "markdown",
   "metadata": {},
   "source": [
    "Review data for irregular models that should have 24GB ram but report 22 RAM."
   ]
  },
  {
   "cell_type": "code",
   "execution_count": 20,
   "metadata": {},
   "outputs": [
    {
     "data": {
      "application/vnd.microsoft.datawrangler.viewer.v0+json": {
       "columns": [
        {
         "name": "index",
         "rawType": "int64",
         "type": "integer"
        },
        {
         "name": "device",
         "rawType": "object",
         "type": "string"
        },
        {
         "name": "user",
         "rawType": "object",
         "type": "string"
        },
        {
         "name": "best_score",
         "rawType": "float64",
         "type": "float"
        }
       ],
       "ref": "11f83265-e41e-4c54-8250-79a7aa443a76",
       "rows": [
        [
         "6845",
         "NVIDIA GeForce RTX 3090 Ti | 22GB",
         "mycon",
         "18.62"
        ],
        [
         "6846",
         "NVIDIA GeForce RTX 3090 Ti | 22GB",
         "mycon",
         "20.92"
        ],
        [
         "6847",
         "NVIDIA GeForce RTX 3090 Ti | 22GB",
         "mycon",
         "19.51"
        ],
        [
         "6848",
         "NVIDIA GeForce RTX 3090 Ti | 22GB",
         "mycon",
         "20.92"
        ],
        [
         "6849",
         "NVIDIA GeForce RTX 3090 Ti | 22GB",
         "mycon",
         "19.51"
        ]
       ],
       "shape": {
        "columns": 3,
        "rows": 5
       }
      },
      "text/html": [
       "<div>\n",
       "<style scoped>\n",
       "    .dataframe tbody tr th:only-of-type {\n",
       "        vertical-align: middle;\n",
       "    }\n",
       "\n",
       "    .dataframe tbody tr th {\n",
       "        vertical-align: top;\n",
       "    }\n",
       "\n",
       "    .dataframe thead th {\n",
       "        text-align: right;\n",
       "    }\n",
       "</style>\n",
       "<table border=\"1\" class=\"dataframe\">\n",
       "  <thead>\n",
       "    <tr style=\"text-align: right;\">\n",
       "      <th></th>\n",
       "      <th>device</th>\n",
       "      <th>user</th>\n",
       "      <th>best_score</th>\n",
       "    </tr>\n",
       "  </thead>\n",
       "  <tbody>\n",
       "    <tr>\n",
       "      <th>6845</th>\n",
       "      <td>NVIDIA GeForce RTX 3090 Ti | 22GB</td>\n",
       "      <td>mycon</td>\n",
       "      <td>18.62</td>\n",
       "    </tr>\n",
       "    <tr>\n",
       "      <th>6846</th>\n",
       "      <td>NVIDIA GeForce RTX 3090 Ti | 22GB</td>\n",
       "      <td>mycon</td>\n",
       "      <td>20.92</td>\n",
       "    </tr>\n",
       "    <tr>\n",
       "      <th>6847</th>\n",
       "      <td>NVIDIA GeForce RTX 3090 Ti | 22GB</td>\n",
       "      <td>mycon</td>\n",
       "      <td>19.51</td>\n",
       "    </tr>\n",
       "    <tr>\n",
       "      <th>6848</th>\n",
       "      <td>NVIDIA GeForce RTX 3090 Ti | 22GB</td>\n",
       "      <td>mycon</td>\n",
       "      <td>20.92</td>\n",
       "    </tr>\n",
       "    <tr>\n",
       "      <th>6849</th>\n",
       "      <td>NVIDIA GeForce RTX 3090 Ti | 22GB</td>\n",
       "      <td>mycon</td>\n",
       "      <td>19.51</td>\n",
       "    </tr>\n",
       "  </tbody>\n",
       "</table>\n",
       "</div>"
      ],
      "text/plain": [
       "                                 device   user  best_score\n",
       "6845  NVIDIA GeForce RTX 3090 Ti | 22GB  mycon       18.62\n",
       "6846  NVIDIA GeForce RTX 3090 Ti | 22GB  mycon       20.92\n",
       "6847  NVIDIA GeForce RTX 3090 Ti | 22GB  mycon       19.51\n",
       "6848  NVIDIA GeForce RTX 3090 Ti | 22GB  mycon       20.92\n",
       "6849  NVIDIA GeForce RTX 3090 Ti | 22GB  mycon       19.51"
      ]
     },
     "execution_count": 20,
     "metadata": {},
     "output_type": "execute_result"
    }
   ],
   "source": [
    "df_res3[df_res3.device == \"NVIDIA GeForce RTX 3090 Ti | 22GB\"][['device','user','best_score']].head()"
   ]
  },
  {
   "cell_type": "markdown",
   "metadata": {},
   "source": [
    "They seem to come from the same user."
   ]
  },
  {
   "cell_type": "code",
   "execution_count": 21,
   "metadata": {},
   "outputs": [
    {
     "data": {
      "application/vnd.microsoft.datawrangler.viewer.v0+json": {
       "columns": [
        {
         "name": "index",
         "rawType": "int64",
         "type": "integer"
        },
        {
         "name": "device",
         "rawType": "object",
         "type": "string"
        },
        {
         "name": "user",
         "rawType": "object",
         "type": "string"
        },
        {
         "name": "best_score",
         "rawType": "float64",
         "type": "float"
        }
       ],
       "ref": "2dfa466a-f68d-4c10-9009-0ef54c0b3a74",
       "rows": [
        [
         "279",
         "NVIDIA GeForce RTX 4090 | 22GB",
         "cloud",
         "13.89"
        ],
        [
         "1173",
         "NVIDIA GeForce RTX 4090 | 22GB",
         "NoInternet",
         "41.58"
        ],
        [
         "1225",
         "NVIDIA GeForce RTX 4090 | 22GB",
         "zi_zi",
         "35.69"
        ],
        [
         "1226",
         "NVIDIA GeForce RTX 4090 | 22GB",
         "zi_zi",
         "39.72"
        ],
        [
         "1227",
         "NVIDIA GeForce RTX 4090 | 22GB",
         "zi_zi",
         "39.24"
        ]
       ],
       "shape": {
        "columns": 3,
        "rows": 5
       }
      },
      "text/html": [
       "<div>\n",
       "<style scoped>\n",
       "    .dataframe tbody tr th:only-of-type {\n",
       "        vertical-align: middle;\n",
       "    }\n",
       "\n",
       "    .dataframe tbody tr th {\n",
       "        vertical-align: top;\n",
       "    }\n",
       "\n",
       "    .dataframe thead th {\n",
       "        text-align: right;\n",
       "    }\n",
       "</style>\n",
       "<table border=\"1\" class=\"dataframe\">\n",
       "  <thead>\n",
       "    <tr style=\"text-align: right;\">\n",
       "      <th></th>\n",
       "      <th>device</th>\n",
       "      <th>user</th>\n",
       "      <th>best_score</th>\n",
       "    </tr>\n",
       "  </thead>\n",
       "  <tbody>\n",
       "    <tr>\n",
       "      <th>279</th>\n",
       "      <td>NVIDIA GeForce RTX 4090 | 22GB</td>\n",
       "      <td>cloud</td>\n",
       "      <td>13.89</td>\n",
       "    </tr>\n",
       "    <tr>\n",
       "      <th>1173</th>\n",
       "      <td>NVIDIA GeForce RTX 4090 | 22GB</td>\n",
       "      <td>NoInternet</td>\n",
       "      <td>41.58</td>\n",
       "    </tr>\n",
       "    <tr>\n",
       "      <th>1225</th>\n",
       "      <td>NVIDIA GeForce RTX 4090 | 22GB</td>\n",
       "      <td>zi_zi</td>\n",
       "      <td>35.69</td>\n",
       "    </tr>\n",
       "    <tr>\n",
       "      <th>1226</th>\n",
       "      <td>NVIDIA GeForce RTX 4090 | 22GB</td>\n",
       "      <td>zi_zi</td>\n",
       "      <td>39.72</td>\n",
       "    </tr>\n",
       "    <tr>\n",
       "      <th>1227</th>\n",
       "      <td>NVIDIA GeForce RTX 4090 | 22GB</td>\n",
       "      <td>zi_zi</td>\n",
       "      <td>39.24</td>\n",
       "    </tr>\n",
       "  </tbody>\n",
       "</table>\n",
       "</div>"
      ],
      "text/plain": [
       "                              device        user  best_score\n",
       "279   NVIDIA GeForce RTX 4090 | 22GB       cloud       13.89\n",
       "1173  NVIDIA GeForce RTX 4090 | 22GB  NoInternet       41.58\n",
       "1225  NVIDIA GeForce RTX 4090 | 22GB       zi_zi       35.69\n",
       "1226  NVIDIA GeForce RTX 4090 | 22GB       zi_zi       39.72\n",
       "1227  NVIDIA GeForce RTX 4090 | 22GB       zi_zi       39.24"
      ]
     },
     "execution_count": 21,
     "metadata": {},
     "output_type": "execute_result"
    }
   ],
   "source": [
    "df_res3[df_res3.device == \"NVIDIA GeForce RTX 4090 | 22GB\"][['device','user','best_score']].head()"
   ]
  },
  {
   "cell_type": "markdown",
   "metadata": {},
   "source": [
    "I will now manually blacklist some cards that I believe should be out of scope.\n",
    "\n",
    "- We are removing the 3090 22GB and 4090 22GB as these show considerably worse performance.\n",
    "These cards should come with 24GB, and it seems some ECC options lowers memory to 22GB (and worsens performance)"
   ]
  },
  {
   "cell_type": "code",
   "execution_count": 22,
   "metadata": {},
   "outputs": [
    {
     "name": "stdout",
     "output_type": "stream",
     "text": [
      "64\n",
      "41\n"
     ]
    }
   ],
   "source": [
    "gpu_blacklist = [\n",
    "    \"AMD Radeon Graphics | 16GB\",\n",
    "    \"AMD Radeon Graphics | 32GB\",\n",
    "    \"AMD Radeon Pro WX 9100 | 16GB\",\n",
    "    \"NVIDIA A100 80GB PCIe | 80GB\",\n",
    "    \"NVIDIA A100-SXM4-40GB | 40GB\",\n",
    "    \"NVIDIA A100-SXM4-80GB | 80GB\",\n",
    "    \"NVIDIA GeForce GTX 1050 Ti | 4GB\",\n",
    "    \"NVIDIA GeForce GTX 1070 | 8GB\",\n",
    "    \"NVIDIA GeForce GTX 1070 Ti | 8GB\",\n",
    "    \"NVIDIA GeForce GTX 1650 | 4GB\",\n",
    "    \"NVIDIA GeForce GTX 1650 Ti | 4GB\",\n",
    "    \"NVIDIA GeForce GTX 1660 | 6GB\",\n",
    "    \"NVIDIA GeForce GTX 1660 Ti | 6GB\",\n",
    "    \"NVIDIA GeForce RTX 3060 Ti | 0GB\",\n",
    "    \"NVIDIA GeForce RTX 3090 Ti | 22GB\",\n",
    "    \"NVIDIA GeForce RTX 4090 | 22GB\",\n",
    "    \"NVIDIA P102-100 | 10GB\",\n",
    "    \"NVIDIA P104-100 | 8GB\",\n",
    "    \"NVIDIA RTX A4500 | 20GB\",\n",
    "    \"NVIDIA RTX A5000 | 24GB\",\n",
    "    \"NVIDIA RTX A6000 | 48GB\",\n",
    "    \"NVIDIA T600 | 4GB\",\n",
    "    \"NVIDIA TITAN X | 12GB\"\n",
    "]\n",
    "\n",
    "mask = df_res3.device.isin(gpu_blacklist)\n",
    "print(df_res3.device.nunique())\n",
    "\n",
    "df_res4 = df_res3[~mask]\n",
    "print(df_res4.device.nunique())"
   ]
  },
  {
   "cell_type": "markdown",
   "metadata": {},
   "source": [
    "Unify records for the 3060 as there two name variations for the same card. Likely an error."
   ]
  },
  {
   "cell_type": "code",
   "execution_count": 23,
   "metadata": {},
   "outputs": [
    {
     "name": "stdout",
     "output_type": "stream",
     "text": [
      "118\n",
      "16\n",
      "Total records for GTX 1060 6GB after consolidation:  134\n"
     ]
    },
    {
     "name": "stderr",
     "output_type": "stream",
     "text": [
      "C:\\Users\\mferr\\AppData\\Local\\Temp\\ipykernel_11372\\4154524380.py:5: FutureWarning: A value is trying to be set on a copy of a DataFrame or Series through chained assignment using an inplace method.\n",
      "The behavior will change in pandas 3.0. This inplace method will never work because the intermediate object on which we are setting values always behaves as a copy.\n",
      "\n",
      "For example, when doing 'df[col].method(value, inplace=True)', try using 'df.method({col: value}, inplace=True)' or df[col] = df[col].method(value) instead, to perform the operation inplace on the original object.\n",
      "\n",
      "\n",
      "  df_res4.device.replace(map_3060, inplace=True)\n"
     ]
    }
   ],
   "source": [
    "map_3060 = {\"NVIDIA GeForce GTX 1060 6GB | 6GB\": \"NVIDIA GeForce GTX 1060 | 6GB\"}\n",
    "print(df_res4[df_res4.device == \"NVIDIA GeForce GTX 1060 6GB | 6GB\"].shape[0])\n",
    "print(df_res4[df_res4.device == \"NVIDIA GeForce GTX 1060 | 6GB\"].shape[0])\n",
    "mask = df_res4.device == \"NVIDIA GeForce GTX 1060 6GB | 6GB\"\n",
    "df_res4.device.replace(map_3060, inplace=True)\n",
    "\n",
    "records = df_res4.device.value_counts()['NVIDIA GeForce GTX 1060 | 6GB']\n",
    "print(f\"Total records for GTX 1060 6GB after consolidation:  {records}\")"
   ]
  },
  {
   "cell_type": "markdown",
   "metadata": {},
   "source": [
    "Simplify device labels so the chart is more readable"
   ]
  },
  {
   "cell_type": "markdown",
   "metadata": {},
   "source": [
    "Each benchmark comes with 5 scores, for batch size 1, 2, 4, 8, 16.\n",
    "Since we are interested in identifying a card by it's maximum potential performance across batch size configuration, we go with the max score across these scores from an individual benchmark.\n",
    "\n",
    "We plotted for each card,\n",
    "\n",
    "1. Average performance across benchmarks from the maximum score per benchmark\n",
    "2. Maximum performance across benchmarks from the maximum score per benchmark\n",
    "\n",
    "We believe that the #1 offer the most meaningful insighs for our interest, as they represent the average of the best scores that the testers were able to achieve on their cards."
   ]
  },
  {
   "cell_type": "code",
   "execution_count": 24,
   "metadata": {},
   "outputs": [],
   "source": [
    "df_res4['device'] = df_res4['device'].str.replace(r'(GeForce|Radeon|RTX|GTX|RX) ', '', regex=True)\n",
    "mask_4090 = df_res4.device == 'NVIDIA 4090 | 24GB'\n"
   ]
  },
  {
   "cell_type": "markdown",
   "metadata": {},
   "source": [
    "### 1. Average performance across benchmarks from the maximum score per benchmark\n",
    "\n",
    "\n",
    "Plot bars horizontally for better readibility"
   ]
  },
  {
   "cell_type": "code",
   "execution_count": 25,
   "metadata": {},
   "outputs": [
    {
     "data": {
      "image/png": "[encoded data removed]",
      "text/plain": [
       "<Figure size 400x1200 with 1 Axes>"
      ]
     },
     "metadata": {},
     "output_type": "display_data"
    }
   ],
   "source": [
    "mbs_gr = df_res4.groupby(by='device')['best_score'].mean().reset_index().sort_values('best_score', ascending=True)\n",
    "\n",
    "# mbs_gr['colors'] = mbs_gr.apply(lambda x : 'sandybrown' if '3060' in x.device else 'mediumslateblue', axis=1)\n",
    "mbs_gr['colors'] = mbs_gr.apply(lambda x : 'sandybrown' if '3060' in x.device else 'silver', axis=1)\n",
    "mbs_gr['colors'] = mbs_gr.apply(lambda x : 'palevioletred' if '1060' in x.device else x.colors, axis=1)\n",
    "mbs_gr['colors'] = mbs_gr.apply(lambda x : 'royalblue' if '4070' in x.device else x.colors, axis=1)\n",
    "\n",
    "ax = mbs_gr.plot.barh(x='device',y='best_score',figsize=(4,12), color=mbs_gr['colors'], legend=False)\n",
    "\n",
    "title = 'Max iterations per device (Averaged) - July 2023'\n",
    "labels = ax.set(ylabel=None, xlabel='It/s', title=title)\n",
    "# plt.setp(ax.get_xticklabels(), rotation=45, ha=\"right\", rotation_mode=\"anchor\")\n",
    "annotations = ax.bar_label(ax.containers[0], fmt='%.1f', padding=3, fontsize=8)\n",
    "\n",
    "filename = prepare_image_path(title)\n",
    "plt.savefig(filename, bbox_inches='tight')"
   ]
  },
  {
   "cell_type": "code",
   "execution_count": 26,
   "metadata": {},
   "outputs": [
    {
     "data": {
      "image/png": "[encoded data removed]",
      "text/plain": [
       "<Figure size 400x1200 with 1 Axes>"
      ]
     },
     "metadata": {},
     "output_type": "display_data"
    }
   ],
   "source": [
    "mbs_gr = df_res4.groupby(by='device')['best_score'].count().reset_index().sort_values('best_score', ascending=True)\n",
    "\n",
    "# mbs_gr['colors'] = mbs_gr.apply(lambda x : 'sandybrown' if '3060' in x.device else 'mediumslateblue', axis=1)\n",
    "mbs_gr['colors'] = mbs_gr.apply(lambda x : 'sandybrown' if '3060' in x.device else 'silver', axis=1)\n",
    "mbs_gr['colors'] = mbs_gr.apply(lambda x : 'palevioletred' if '1060' in x.device else x.colors, axis=1)\n",
    "mbs_gr['colors'] = mbs_gr.apply(lambda x : 'royalblue' if '4070' in x.device else x.colors, axis=1)\n",
    "\n",
    "ax = mbs_gr.plot.barh(x='device',y='best_score',figsize=(4,12), color=mbs_gr['colors'], legend=False)\n",
    "\n",
    "title = 'Total benchmarks per device - July 2023'\n",
    "labels = ax.set(ylabel=None, xlabel='Benchmarks count', title=title)\n",
    "annotations = ax.bar_label(ax.containers[0], fmt='%.1f', padding=3, fontsize=8)\n",
    "\n",
    "filename = prepare_image_path(title)\n",
    "plt.savefig(filename, bbox_inches='tight')"
   ]
  },
  {
   "cell_type": "markdown",
   "metadata": {},
   "source": [
    "### 2. Maximum performance across benchmarks from the maximum score per benchmark"
   ]
  },
  {
   "cell_type": "code",
   "execution_count": 27,
   "metadata": {},
   "outputs": [
    {
     "data": {
      "image/png": "[encoded data removed]",
      "text/plain": [
       "<Figure size 1600x200 with 1 Axes>"
      ]
     },
     "metadata": {},
     "output_type": "display_data"
    }
   ],
   "source": [
    "ax = df_res4.groupby(by='device')['best_score'].max().reset_index().sort_values('best_score', ascending=False).plot.bar(x='device',y='best_score',figsize=(16,2))\n",
    "# ax = df_res4[~mask_4090].device.value_counts(ascending=True).plot.barh()\n",
    "# ax = df_res4[~mask_4090].groupby(by='device')['best_score'].max().reset_index().sort_values('best_score', ascending=False).plot.bar(x='device',y='best_score',figsize=(14,2))\n",
    "# plt.figure(figsize=(16,2))\n",
    "\n",
    "title = 'Max iterations per device - July 2023'\n",
    "labels = ax.set(xlabel=None, ylabel='It/s', title=title)\n",
    "annotations = ax.bar_label(ax.containers[0], fmt='%.1f', padding=3, fontsize=8)\n",
    "\n",
    "filename = prepare_image_path(title)\n",
    "plt.savefig(filename, bbox_inches='tight')"
   ]
  },
  {
   "cell_type": "markdown",
   "metadata": {},
   "source": [
    "# Analysis for performance vs price"
   ]
  },
  {
   "cell_type": "markdown",
   "metadata": {},
   "source": [
    "Load price data and visualize price per GPU"
   ]
  },
  {
   "cell_type": "code",
   "execution_count": 28,
   "metadata": {},
   "outputs": [
    {
     "data": {
      "image/png": "[encoded data removed]",
      "text/plain": [
       "<Figure size 600x800 with 1 Axes>"
      ]
     },
     "metadata": {},
     "output_type": "display_data"
    }
   ],
   "source": [
    "trm = 4087\n",
    "import_tax = 1.19\n",
    "\n",
    "prices_df = pd.read_csv(f'{data_dir}/prices.csv')\n",
    "prices_df.columns = ['device', 'ram', 'price_dollars']\n",
    "prices_df['price_cop'] = trm * prices_df['price_dollars']\n",
    "prices_df['price_cop_after_tax'] = prices_df['price_cop'] * import_tax\n",
    "prices_df.sort_values('price_dollars', ascending=False, inplace=True)\n",
    "prices_df.set_index('device', inplace=True)\n",
    "\n",
    "prices_df['colors'] = prices_df.apply(lambda x : 'sandybrown' if '3060' in x.name else 'silver', axis=1)\n",
    "prices_df['colors'] = prices_df.apply(lambda x : 'palevioletred' if '1060' in x.name else x.colors, axis=1)\n",
    "prices_df['colors'] = prices_df.apply(lambda x : 'royalblue' if '4070' in x.name else x.colors, axis=1)\n",
    "\n",
    "ax = prices_df['price_cop_after_tax'].plot.barh(figsize=(6,8), color=prices_df['colors'], legend=False)\n",
    "title = 'GPU Prices after TAX (COP) - July 2023'\n",
    "labels = ax.set(ylabel=None, xlabel=None, title=title)\n",
    "annotations = ax.bar_label(ax.containers[0], fmt='%.0f', padding=3, fontsize=8)\n",
    "\n",
    "\n",
    "filename = prepare_image_path(title)\n",
    "plt.savefig(filename, bbox_inches='tight')"
   ]
  },
  {
   "cell_type": "markdown",
   "metadata": {},
   "source": [
    "Merge price and benchmarks data to get performance / price ratio."
   ]
  },
  {
   "cell_type": "code",
   "execution_count": 29,
   "metadata": {},
   "outputs": [
    {
     "data": {
      "image/png": "[encoded data removed]",
      "text/plain": [
       "<Figure size 600x800 with 1 Axes>"
      ]
     },
     "metadata": {},
     "output_type": "display_data"
    }
   ],
   "source": [
    "mbs_gr = df_res4.groupby(by='device')['best_score'].mean().reset_index().sort_values('best_score', ascending=True)\n",
    "\n",
    "\n",
    "labels = mbs_gr.device.apply(lambda x: x.split('|')[0].strip())\n",
    "labels.name = 'device2'\n",
    "df_res5 = pd.concat([mbs_gr, labels], axis=1)\n",
    "df_res5.drop(columns=['device'], inplace=True)\n",
    "df_res5.set_index('device2', inplace=True)\n",
    "df_res5.index.name = 'device'\n",
    "\n",
    "df_res5 = df_res5.merge(prices_df, how='inner', on='device')\n",
    "df_res5['colors'] = df_res5.apply(lambda x : 'sandybrown' if '3060' in x.name else 'silver', axis=1)\n",
    "df_res5['colors'] = df_res5.apply(lambda x : 'palevioletred' if '1060' in x.name else x.colors, axis=1)\n",
    "df_res5['colors'] = df_res5.apply(lambda x : 'royalblue' if '4070' in x.name else x.colors, axis=1)\n",
    "\n",
    "df_res5.head()\n",
    "df_res5['ratio_pf_price'] =  (df_res5.best_score / df_res5.price_dollars).round(4) *1000\n",
    "\n",
    "df_res5 = df_res5.sort_values('ratio_pf_price', ascending=False)\n",
    "ax = df_res5.plot.barh(y='ratio_pf_price', figsize=(6,8), color=df_res5['colors'], legend=False)\n",
    "title = 'GPU Performance x Price ratio - July 2023'\n",
    "labels = ax.set(ylabel=None, xlabel=None, title=title)\n",
    "annotations = ax.bar_label(ax.containers[0], fmt='%.3f', padding=3, fontsize=8)\n",
    "\n",
    "\n",
    "filename = prepare_image_path(title)\n",
    "plt.savefig(filename, bbox_inches='tight')\n"
   ]
  },
  {
   "cell_type": "markdown",
   "metadata": {},
   "source": [
    "Visualize performance to price ratio per GPU with color scaled based off price.\n",
    "We will be using plotly for interactive charts."
   ]
  },
  {
   "cell_type": "code",
   "execution_count": 30,
   "metadata": {},
   "outputs": [],
   "source": [
    "# Setup plotly\n",
    "\n",
    "import kaleido\n",
    "# Set up pandas to use plotly\n",
    "import plotly.io as pio\n",
    "pd.options.plotting.backend = \"plotly\"\n",
    "pio.templates.default = \"plotly_dark\"\n",
    "\n",
    "# Bring plotly for direct use\n",
    "import plotly.express as px"
   ]
  },
  {
   "cell_type": "code",
   "execution_count": 31,
   "metadata": {},
   "outputs": [],
   "source": [
    "df_res5 = df_res4.groupby(by='device')['best_score'].mean().reset_index().sort_values('best_score', ascending=True)\n",
    "df_res5.set_index('device', inplace=True)\n",
    "prices_df.index = prices_df.index + ' | ' + prices_df['ram']\n",
    "\n",
    "df_res5 = df_res5.merge(prices_df, how='inner', left_index=True, right_index=True)\n",
    "df_res5['colors'] = df_res5.apply(lambda x : 'sandybrown' if '3060' in x.name else 'silver', axis=1)\n",
    "df_res5['colors'] = df_res5.apply(lambda x : 'palevioletred' if '1060' in x.name else x.colors, axis=1)\n",
    "df_res5['colors'] = df_res5.apply(lambda x : 'royalblue' if '4070' in x.name else x.colors, axis=1)\n",
    "\n",
    "df_res5['ratio_pf_price'] =  (df_res5.best_score / df_res5.price_dollars).round(4) *1000"
   ]
  },
  {
   "cell_type": "code",
   "execution_count": 32,
   "metadata": {},
   "outputs": [
    {
     "data": {
      "application/vnd.plotly.v1+json": {
       "config": {
        "plotlyServerURL": "https://plot.ly"
       },
       "data": [
        {
         "hovertemplate": "ratio_pf_price=%{x}<br>index=%{y}<br>price_dollars=%{marker.color}<extra></extra>",
         "legendgroup": "",
         "marker": {
          "color": {
           "bdata": "yADiAP8AFwFdAY8BUwGJAoUBewHfAfMBeQGJAo8BeAVOAnUCvwFhAsoBgwMqA68EOgWwBGoHQAY=",
           "dtype": "i2"
          },
          "coloraxis": "coloraxis",
          "opacity": 1,
          "pattern": {
           "shape": ""
          }
         },
         "name": "",
         "orientation": "h",
         "showlegend": false,
         "textposition": "auto",
         "texttemplate": "%{x}",
         "type": "bar",
         "x": {
          "bdata": "Z2ZmZmZmGECamZmZmRkyQDMzMzMzMzRAAAAAAACANEAAAAAAAIAwQDMzMzMzMzBAMzMzMzOzM0CamZmZmZklQM3MzMzMTDJAMzMzMzMzM0CZmZmZmZkuQGdmZmZmZjNAmpmZmZkZOkBmZmZmZmYvQMzMzMzMzDtAZ2ZmZmZmIEAAAAAAAAA0QAAAAAAAADNAAAAAAAAAPEAzMzMzMzM3QMzMzMzMjEBANDMzMzOzMkAAAAAAAAA1QM3MzMzMzC5AzczMzMzMLEDNzMzMzMwyQDMzMzMzMylAZmZmZmbmNUA=",
          "dtype": "f8"
         },
         "xaxis": "x",
         "y": [
          "NVIDIA 1060 | 6GB",
          "AMD 6650 XT | 8GB",
          "NVIDIA 3050 | 8GB",
          "AMD 6600 XT | 8GB",
          "AMD 6700 XT | 12GB",
          "NVIDIA 2070 | 8GB",
          "NVIDIA 2060 | 12GB",
          "NVIDIA 2080 | 8GB",
          "AMD 6750 XT | 12GB",
          "NVIDIA 3060 | 12GB",
          "AMD 6800 | 16GB",
          "AMD 6800 XT | 16GB",
          "NVIDIA 3060 Ti | 8GB",
          "AMD 6900 XT | 16GB",
          "NVIDIA 4060 Ti | 8GB",
          "NVIDIA 2080 Ti | 11GB",
          "NVIDIA 3070 Ti | 8GB",
          "AMD 6950 XT | 16GB",
          "NVIDIA 3070 | 8GB",
          "NVIDIA 4070 | 12GB",
          "NVIDIA 3080 | 10GB",
          "NVIDIA 3080 | 12GB",
          "NVIDIA 4070 Ti | 12GB",
          "NVIDIA 3080 Ti | 12GB",
          "NVIDIA 3090 | 24GB",
          "NVIDIA 4080 | 16GB",
          "NVIDIA 3090 Ti | 24GB",
          "NVIDIA 4090 | 24GB"
         ],
         "yaxis": "y"
        }
       ],
       "layout": {
        "barmode": "relative",
        "coloraxis": {
         "colorbar": {
          "title": {
           "text": "price_dollars"
          }
         },
         "colorscale": [
          [
           0,
           "rgb(210, 251, 212)"
          ],
          [
           0.16666666666666666,
           "rgb(165, 219, 194)"
          ],
          [
           0.3333333333333333,
           "rgb(123, 188, 176)"
          ],
          [
           0.5,
           "rgb(85, 156, 158)"
          ],
          [
           0.6666666666666666,
           "rgb(58, 124, 137)"
          ],
          [
           0.8333333333333334,
           "rgb(35, 93, 114)"
          ],
          [
           1,
           "rgb(18, 63, 90)"
          ]
         ]
        },
        "height": 900,
        "legend": {
         "tracegroupgap": 0,
         "x": 1.2,
         "xanchor": "left",
         "y": 0.9,
         "yanchor": "top"
        },
        "margin": {
         "b": 100,
         "l": 200,
         "r": 100,
         "t": 100
        },
        "template": {
         "data": {
          "bar": [
           {
            "error_x": {
             "color": "#f2f5fa"
            },
            "error_y": {
             "color": "#f2f5fa"
            },
            "marker": {
             "line": {
              "color": "rgb(17,17,17)",
              "width": 0.5
             },
             "pattern": {
              "fillmode": "overlay",
              "size": 10,
              "solidity": 0.2
             }
            },
            "type": "bar"
           }
          ],
          "barpolar": [
           {
            "marker": {
             "line": {
              "color": "rgb(17,17,17)",
              "width": 0.5
             },
             "pattern": {
              "fillmode": "overlay",
              "size": 10,
              "solidity": 0.2
             }
            },
            "type": "barpolar"
           }
          ],
          "carpet": [
           {
            "aaxis": {
             "endlinecolor": "#A2B1C6",
             "gridcolor": "#506784",
             "linecolor": "#506784",
             "minorgridcolor": "#506784",
             "startlinecolor": "#A2B1C6"
            },
            "baxis": {
             "endlinecolor": "#A2B1C6",
             "gridcolor": "#506784",
             "linecolor": "#506784",
             "minorgridcolor": "#506784",
             "startlinecolor": "#A2B1C6"
            },
            "type": "carpet"
           }
          ],
          "choropleth": [
           {
            "colorbar": {
             "outlinewidth": 0,
             "ticks": ""
            },
            "type": "choropleth"
           }
          ],
          "contour": [
           {
            "colorbar": {
             "outlinewidth": 0,
             "ticks": ""
            },
            "colorscale": [
             [
              0,
              "#0d0887"
             ],
             [
              0.1111111111111111,
              "#46039f"
             ],
             [
              0.2222222222222222,
              "#7201a8"
             ],
             [
              0.3333333333333333,
              "#9c179e"
             ],
             [
              0.4444444444444444,
              "#bd3786"
             ],
             [
              0.5555555555555556,
              "#d8576b"
             ],
             [
              0.6666666666666666,
              "#ed7953"
             ],
             [
              0.7777777777777778,
              "#fb9f3a"
             ],
             [
              0.8888888888888888,
              "#fdca26"
             ],
             [
              1,
              "#f0f921"
             ]
            ],
            "type": "contour"
           }
          ],
          "contourcarpet": [
           {
            "colorbar": {
             "outlinewidth": 0,
             "ticks": ""
            },
            "type": "contourcarpet"
           }
          ],
          "heatmap": [
           {
            "colorbar": {
             "outlinewidth": 0,
             "ticks": ""
            },
            "colorscale": [
             [
              0,
              "#0d0887"
             ],
             [
              0.1111111111111111,
              "#46039f"
             ],
             [
              0.2222222222222222,
              "#7201a8"
             ],
             [
              0.3333333333333333,
              "#9c179e"
             ],
             [
              0.4444444444444444,
              "#bd3786"
             ],
             [
              0.5555555555555556,
              "#d8576b"
             ],
             [
              0.6666666666666666,
              "#ed7953"
             ],
             [
              0.7777777777777778,
              "#fb9f3a"
             ],
             [
              0.8888888888888888,
              "#fdca26"
             ],
             [
              1,
              "#f0f921"
             ]
            ],
            "type": "heatmap"
           }
          ],
          "histogram": [
           {
            "marker": {
             "pattern": {
              "fillmode": "overlay",
              "size": 10,
              "solidity": 0.2
             }
            },
            "type": "histogram"
           }
          ],
          "histogram2d": [
           {
            "colorbar": {
             "outlinewidth": 0,
             "ticks": ""
            },
            "colorscale": [
             [
              0,
              "#0d0887"
             ],
             [
              0.1111111111111111,
              "#46039f"
             ],
             [
              0.2222222222222222,
              "#7201a8"
             ],
             [
              0.3333333333333333,
              "#9c179e"
             ],
             [
              0.4444444444444444,
              "#bd3786"
             ],
             [
              0.5555555555555556,
              "#d8576b"
             ],
             [
              0.6666666666666666,
              "#ed7953"
             ],
             [
              0.7777777777777778,
              "#fb9f3a"
             ],
             [
              0.8888888888888888,
              "#fdca26"
             ],
             [
              1,
              "#f0f921"
             ]
            ],
            "type": "histogram2d"
           }
          ],
          "histogram2dcontour": [
           {
            "colorbar": {
             "outlinewidth": 0,
             "ticks": ""
            },
            "colorscale": [
             [
              0,
              "#0d0887"
             ],
             [
              0.1111111111111111,
              "#46039f"
             ],
             [
              0.2222222222222222,
              "#7201a8"
             ],
             [
              0.3333333333333333,
              "#9c179e"
             ],
             [
              0.4444444444444444,
              "#bd3786"
             ],
             [
              0.5555555555555556,
              "#d8576b"
             ],
             [
              0.6666666666666666,
              "#ed7953"
             ],
             [
              0.7777777777777778,
              "#fb9f3a"
             ],
             [
              0.8888888888888888,
              "#fdca26"
             ],
             [
              1,
              "#f0f921"
             ]
            ],
            "type": "histogram2dcontour"
           }
          ],
          "mesh3d": [
           {
            "colorbar": {
             "outlinewidth": 0,
             "ticks": ""
            },
            "type": "mesh3d"
           }
          ],
          "parcoords": [
           {
            "line": {
             "colorbar": {
              "outlinewidth": 0,
              "ticks": ""
             }
            },
            "type": "parcoords"
           }
          ],
          "pie": [
           {
            "automargin": true,
            "type": "pie"
           }
          ],
          "scatter": [
           {
            "marker": {
             "line": {
              "color": "#283442"
             }
            },
            "type": "scatter"
           }
          ],
          "scatter3d": [
           {
            "line": {
             "colorbar": {
              "outlinewidth": 0,
              "ticks": ""
             }
            },
            "marker": {
             "colorbar": {
              "outlinewidth": 0,
              "ticks": ""
             }
            },
            "type": "scatter3d"
           }
          ],
          "scattercarpet": [
           {
            "marker": {
             "colorbar": {
              "outlinewidth": 0,
              "ticks": ""
             }
            },
            "type": "scattercarpet"
           }
          ],
          "scattergeo": [
           {
            "marker": {
             "colorbar": {
              "outlinewidth": 0,
              "ticks": ""
             }
            },
            "type": "scattergeo"
           }
          ],
          "scattergl": [
           {
            "marker": {
             "line": {
              "color": "#283442"
             }
            },
            "type": "scattergl"
           }
          ],
          "scattermap": [
           {
            "marker": {
             "colorbar": {
              "outlinewidth": 0,
              "ticks": ""
             }
            },
            "type": "scattermap"
           }
          ],
          "scattermapbox": [
           {
            "marker": {
             "colorbar": {
              "outlinewidth": 0,
              "ticks": ""
             }
            },
            "type": "scattermapbox"
           }
          ],
          "scatterpolar": [
           {
            "marker": {
             "colorbar": {
              "outlinewidth": 0,
              "ticks": ""
             }
            },
            "type": "scatterpolar"
           }
          ],
          "scatterpolargl": [
           {
            "marker": {
             "colorbar": {
              "outlinewidth": 0,
              "ticks": ""
             }
            },
            "type": "scatterpolargl"
           }
          ],
          "scatterternary": [
           {
            "marker": {
             "colorbar": {
              "outlinewidth": 0,
              "ticks": ""
             }
            },
            "type": "scatterternary"
           }
          ],
          "surface": [
           {
            "colorbar": {
             "outlinewidth": 0,
             "ticks": ""
            },
            "colorscale": [
             [
              0,
              "#0d0887"
             ],
             [
              0.1111111111111111,
              "#46039f"
             ],
             [
              0.2222222222222222,
              "#7201a8"
             ],
             [
              0.3333333333333333,
              "#9c179e"
             ],
             [
              0.4444444444444444,
              "#bd3786"
             ],
             [
              0.5555555555555556,
              "#d8576b"
             ],
             [
              0.6666666666666666,
              "#ed7953"
             ],
             [
              0.7777777777777778,
              "#fb9f3a"
             ],
             [
              0.8888888888888888,
              "#fdca26"
             ],
             [
              1,
              "#f0f921"
             ]
            ],
            "type": "surface"
           }
          ],
          "table": [
           {
            "cells": {
             "fill": {
              "color": "#506784"
             },
             "line": {
              "color": "rgb(17,17,17)"
             }
            },
            "header": {
             "fill": {
              "color": "#2a3f5f"
             },
             "line": {
              "color": "rgb(17,17,17)"
             }
            },
            "type": "table"
           }
          ]
         },
         "layout": {
          "annotationdefaults": {
           "arrowcolor": "#f2f5fa",
           "arrowhead": 0,
           "arrowwidth": 1
          },
          "autotypenumbers": "strict",
          "coloraxis": {
           "colorbar": {
            "outlinewidth": 0,
            "ticks": ""
           }
          },
          "colorscale": {
           "diverging": [
            [
             0,
             "#8e0152"
            ],
            [
             0.1,
             "#c51b7d"
            ],
            [
             0.2,
             "#de77ae"
            ],
            [
             0.3,
             "#f1b6da"
            ],
            [
             0.4,
             "#fde0ef"
            ],
            [
             0.5,
             "#f7f7f7"
            ],
            [
             0.6,
             "#e6f5d0"
            ],
            [
             0.7,
             "#b8e186"
            ],
            [
             0.8,
             "#7fbc41"
            ],
            [
             0.9,
             "#4d9221"
            ],
            [
             1,
             "#276419"
            ]
           ],
           "sequential": [
            [
             0,
             "#0d0887"
            ],
            [
             0.1111111111111111,
             "#46039f"
            ],
            [
             0.2222222222222222,
             "#7201a8"
            ],
            [
             0.3333333333333333,
             "#9c179e"
            ],
            [
             0.4444444444444444,
             "#bd3786"
            ],
            [
             0.5555555555555556,
             "#d8576b"
            ],
            [
             0.6666666666666666,
             "#ed7953"
            ],
            [
             0.7777777777777778,
             "#fb9f3a"
            ],
            [
             0.8888888888888888,
             "#fdca26"
            ],
            [
             1,
             "#f0f921"
            ]
           ],
           "sequentialminus": [
            [
             0,
             "#0d0887"
            ],
            [
             0.1111111111111111,
             "#46039f"
            ],
            [
             0.2222222222222222,
             "#7201a8"
            ],
            [
             0.3333333333333333,
             "#9c179e"
            ],
            [
             0.4444444444444444,
             "#bd3786"
            ],
            [
             0.5555555555555556,
             "#d8576b"
            ],
            [
             0.6666666666666666,
             "#ed7953"
            ],
            [
             0.7777777777777778,
             "#fb9f3a"
            ],
            [
             0.8888888888888888,
             "#fdca26"
            ],
            [
             1,
             "#f0f921"
            ]
           ]
          },
          "colorway": [
           "#636efa",
           "#EF553B",
           "#00cc96",
           "#ab63fa",
           "#FFA15A",
           "#19d3f3",
           "#FF6692",
           "#B6E880",
           "#FF97FF",
           "#FECB52"
          ],
          "font": {
           "color": "#f2f5fa"
          },
          "geo": {
           "bgcolor": "rgb(17,17,17)",
           "lakecolor": "rgb(17,17,17)",
           "landcolor": "rgb(17,17,17)",
           "showlakes": true,
           "showland": true,
           "subunitcolor": "#506784"
          },
          "hoverlabel": {
           "align": "left"
          },
          "hovermode": "closest",
          "mapbox": {
           "style": "dark"
          },
          "paper_bgcolor": "rgb(17,17,17)",
          "plot_bgcolor": "rgb(17,17,17)",
          "polar": {
           "angularaxis": {
            "gridcolor": "#506784",
            "linecolor": "#506784",
            "ticks": ""
           },
           "bgcolor": "rgb(17,17,17)",
           "radialaxis": {
            "gridcolor": "#506784",
            "linecolor": "#506784",
            "ticks": ""
           }
          },
          "scene": {
           "xaxis": {
            "backgroundcolor": "rgb(17,17,17)",
            "gridcolor": "#506784",
            "gridwidth": 2,
            "linecolor": "#506784",
            "showbackground": true,
            "ticks": "",
            "zerolinecolor": "#C8D4E3"
           },
           "yaxis": {
            "backgroundcolor": "rgb(17,17,17)",
            "gridcolor": "#506784",
            "gridwidth": 2,
            "linecolor": "#506784",
            "showbackground": true,
            "ticks": "",
            "zerolinecolor": "#C8D4E3"
           },
           "zaxis": {
            "backgroundcolor": "rgb(17,17,17)",
            "gridcolor": "#506784",
            "gridwidth": 2,
            "linecolor": "#506784",
            "showbackground": true,
            "ticks": "",
            "zerolinecolor": "#C8D4E3"
           }
          },
          "shapedefaults": {
           "line": {
            "color": "#f2f5fa"
           }
          },
          "sliderdefaults": {
           "bgcolor": "#C8D4E3",
           "bordercolor": "rgb(17,17,17)",
           "borderwidth": 1,
           "tickwidth": 0
          },
          "ternary": {
           "aaxis": {
            "gridcolor": "#506784",
            "linecolor": "#506784",
            "ticks": ""
           },
           "baxis": {
            "gridcolor": "#506784",
            "linecolor": "#506784",
            "ticks": ""
           },
           "bgcolor": "rgb(17,17,17)",
           "caxis": {
            "gridcolor": "#506784",
            "linecolor": "#506784",
            "ticks": ""
           }
          },
          "title": {
           "x": 0.05
          },
          "updatemenudefaults": {
           "bgcolor": "#506784",
           "borderwidth": 0
          },
          "xaxis": {
           "automargin": true,
           "gridcolor": "#283442",
           "linecolor": "#506784",
           "ticks": "",
           "title": {
            "standoff": 15
           },
           "zerolinecolor": "#283442",
           "zerolinewidth": 2
          },
          "yaxis": {
           "automargin": true,
           "gridcolor": "#283442",
           "linecolor": "#506784",
           "ticks": "",
           "title": {
            "standoff": 15
           },
           "zerolinecolor": "#283442",
           "zerolinewidth": 2
          }
         }
        },
        "title": {
         "text": "Performance to price ratio (higher is better) - 512x512 Gens"
        },
        "width": 1000,
        "xaxis": {
         "anchor": "y",
         "domain": [
          0,
          1
         ],
         "title": {
          "text": "Ratio"
         }
        },
        "yaxis": {
         "anchor": "x",
         "categoryorder": "total ascending",
         "domain": [
          0,
          1
         ],
         "ticksuffix": "  ",
         "title": {
          "text": "GPU"
         }
        }
       }
      }
     },
     "metadata": {},
     "output_type": "display_data"
    }
   ],
   "source": [
    "title = 'Performance to price ratio (higher is better) - 512x512 Gens'\n",
    "fig = px.bar(df_res5, y=df_res5.index, x='ratio_pf_price', orientation='h', color=\"price_dollars\",  text_auto=True, color_continuous_scale ='darkmint', opacity=1)\n",
    "fig.update_layout(\n",
    "    legend=dict(yanchor=\"top\", y=0.9, xanchor=\"left\", x=1.2), \n",
    "    yaxis_title='GPU', \n",
    "    title=title,\n",
    "    xaxis_title='Ratio',\n",
    "    width=1000,\n",
    "    height=900,\n",
    "    yaxis={'categoryorder': 'total ascending'},\n",
    "    margin = dict(l = 200, r =100, b = 100, t = 100)\n",
    ")\n",
    "fig.update_yaxes(ticksuffix = \"  \")\n",
    "\n",
    "filename = prepare_image_path(title)\n",
    "fig.write_image(filename, scale = 2.0, width=1000, height=900)\n",
    "\n",
    "fig.show()\n"
   ]
  },
  {
   "cell_type": "markdown",
   "metadata": {},
   "source": [
    "Visualize Iterations per second per GPU with color scaled based off price."
   ]
  },
  {
   "cell_type": "code",
   "execution_count": 33,
   "metadata": {},
   "outputs": [
    {
     "data": {
      "application/vnd.plotly.v1+json": {
       "config": {
        "plotlyServerURL": "https://plot.ly"
       },
       "data": [
        {
         "hovertemplate": "best_score=%{x}<br>index=%{y}<br>price_dollars=%{marker.color}<extra></extra>",
         "legendgroup": "",
         "marker": {
          "color": {
           "bdata": "yADiAP8AFwFdAY8BUwGJAoUBewHfAfMBeQGJAo8BeAVOAnUCvwFhAsoBgwMqA68EOgWwBGoHQAY=",
           "dtype": "i2"
          },
          "coloraxis": "coloraxis",
          "opacity": 1,
          "pattern": {
           "shape": ""
          }
         },
         "name": "",
         "orientation": "h",
         "showlegend": false,
         "textposition": "auto",
         "texttemplate": "%{x}",
         "type": "bar",
         "x": {
          "bdata": "nxivwD1+8z8MtmALtmAQQH4e8vgyoBRAyVwkwufTFkBfTTwrGgkXQBkDQVX+3BlAPQrXo3C9GkD/JPBPAv8bQEYw0d/JahxAvXSTGAQkHUBNWsWkVUwdQImeocaCVCNAZA+oXOewI0CInwjQ2l4kQDMzMzMzMyZAg5KOT1/bJkAWqF+B+pUnQAALwSEt4ydAwkAyAwIGKUAOlpgrekcsQJgOfB6DWi5AAAAAAADKMEDLoUW28/0wQFGbJinBezJArnZ2oMxUM0BxMD1oCoM2QJyl/3wm5zdA2rIb5byJQUA=",
          "dtype": "f8"
         },
         "xaxis": "x",
         "y": [
          "NVIDIA 1060 | 6GB",
          "AMD 6650 XT | 8GB",
          "NVIDIA 3050 | 8GB",
          "AMD 6600 XT | 8GB",
          "AMD 6700 XT | 12GB",
          "NVIDIA 2070 | 8GB",
          "NVIDIA 2060 | 12GB",
          "NVIDIA 2080 | 8GB",
          "AMD 6750 XT | 12GB",
          "NVIDIA 3060 | 12GB",
          "AMD 6800 | 16GB",
          "AMD 6800 XT | 16GB",
          "NVIDIA 3060 Ti | 8GB",
          "AMD 6900 XT | 16GB",
          "NVIDIA 4060 Ti | 8GB",
          "NVIDIA 2080 Ti | 11GB",
          "NVIDIA 3070 Ti | 8GB",
          "AMD 6950 XT | 16GB",
          "NVIDIA 3070 | 8GB",
          "NVIDIA 4070 | 12GB",
          "NVIDIA 3080 | 10GB",
          "NVIDIA 3080 | 12GB",
          "NVIDIA 4070 Ti | 12GB",
          "NVIDIA 3080 Ti | 12GB",
          "NVIDIA 3090 | 24GB",
          "NVIDIA 4080 | 16GB",
          "NVIDIA 3090 Ti | 24GB",
          "NVIDIA 4090 | 24GB"
         ],
         "yaxis": "y"
        }
       ],
       "layout": {
        "barmode": "relative",
        "coloraxis": {
         "colorbar": {
          "title": {
           "text": "price_dollars"
          }
         },
         "colorscale": [
          [
           0,
           "rgb(210, 251, 212)"
          ],
          [
           0.16666666666666666,
           "rgb(165, 219, 194)"
          ],
          [
           0.3333333333333333,
           "rgb(123, 188, 176)"
          ],
          [
           0.5,
           "rgb(85, 156, 158)"
          ],
          [
           0.6666666666666666,
           "rgb(58, 124, 137)"
          ],
          [
           0.8333333333333334,
           "rgb(35, 93, 114)"
          ],
          [
           1,
           "rgb(18, 63, 90)"
          ]
         ]
        },
        "height": 900,
        "legend": {
         "tracegroupgap": 0,
         "x": 1.2,
         "xanchor": "left",
         "y": 0.9,
         "yanchor": "top"
        },
        "margin": {
         "b": 100,
         "l": 200,
         "r": 100,
         "t": 100
        },
        "template": {
         "data": {
          "bar": [
           {
            "error_x": {
             "color": "#f2f5fa"
            },
            "error_y": {
             "color": "#f2f5fa"
            },
            "marker": {
             "line": {
              "color": "rgb(17,17,17)",
              "width": 0.5
             },
             "pattern": {
              "fillmode": "overlay",
              "size": 10,
              "solidity": 0.2
             }
            },
            "type": "bar"
           }
          ],
          "barpolar": [
           {
            "marker": {
             "line": {
              "color": "rgb(17,17,17)",
              "width": 0.5
             },
             "pattern": {
              "fillmode": "overlay",
              "size": 10,
              "solidity": 0.2
             }
            },
            "type": "barpolar"
           }
          ],
          "carpet": [
           {
            "aaxis": {
             "endlinecolor": "#A2B1C6",
             "gridcolor": "#506784",
             "linecolor": "#506784",
             "minorgridcolor": "#506784",
             "startlinecolor": "#A2B1C6"
            },
            "baxis": {
             "endlinecolor": "#A2B1C6",
             "gridcolor": "#506784",
             "linecolor": "#506784",
             "minorgridcolor": "#506784",
             "startlinecolor": "#A2B1C6"
            },
            "type": "carpet"
           }
          ],
          "choropleth": [
           {
            "colorbar": {
             "outlinewidth": 0,
             "ticks": ""
            },
            "type": "choropleth"
           }
          ],
          "contour": [
           {
            "colorbar": {
             "outlinewidth": 0,
             "ticks": ""
            },
            "colorscale": [
             [
              0,
              "#0d0887"
             ],
             [
              0.1111111111111111,
              "#46039f"
             ],
             [
              0.2222222222222222,
              "#7201a8"
             ],
             [
              0.3333333333333333,
              "#9c179e"
             ],
             [
              0.4444444444444444,
              "#bd3786"
             ],
             [
              0.5555555555555556,
              "#d8576b"
             ],
             [
              0.6666666666666666,
              "#ed7953"
             ],
             [
              0.7777777777777778,
              "#fb9f3a"
             ],
             [
              0.8888888888888888,
              "#fdca26"
             ],
             [
              1,
              "#f0f921"
             ]
            ],
            "type": "contour"
           }
          ],
          "contourcarpet": [
           {
            "colorbar": {
             "outlinewidth": 0,
             "ticks": ""
            },
            "type": "contourcarpet"
           }
          ],
          "heatmap": [
           {
            "colorbar": {
             "outlinewidth": 0,
             "ticks": ""
            },
            "colorscale": [
             [
              0,
              "#0d0887"
             ],
             [
              0.1111111111111111,
              "#46039f"
             ],
             [
              0.2222222222222222,
              "#7201a8"
             ],
             [
              0.3333333333333333,
              "#9c179e"
             ],
             [
              0.4444444444444444,
              "#bd3786"
             ],
             [
              0.5555555555555556,
              "#d8576b"
             ],
             [
              0.6666666666666666,
              "#ed7953"
             ],
             [
              0.7777777777777778,
              "#fb9f3a"
             ],
             [
              0.8888888888888888,
              "#fdca26"
             ],
             [
              1,
              "#f0f921"
             ]
            ],
            "type": "heatmap"
           }
          ],
          "histogram": [
           {
            "marker": {
             "pattern": {
              "fillmode": "overlay",
              "size": 10,
              "solidity": 0.2
             }
            },
            "type": "histogram"
           }
          ],
          "histogram2d": [
           {
            "colorbar": {
             "outlinewidth": 0,
             "ticks": ""
            },
            "colorscale": [
             [
              0,
              "#0d0887"
             ],
             [
              0.1111111111111111,
              "#46039f"
             ],
             [
              0.2222222222222222,
              "#7201a8"
             ],
             [
              0.3333333333333333,
              "#9c179e"
             ],
             [
              0.4444444444444444,
              "#bd3786"
             ],
             [
              0.5555555555555556,
              "#d8576b"
             ],
             [
              0.6666666666666666,
              "#ed7953"
             ],
             [
              0.7777777777777778,
              "#fb9f3a"
             ],
             [
              0.8888888888888888,
              "#fdca26"
             ],
             [
              1,
              "#f0f921"
             ]
            ],
            "type": "histogram2d"
           }
          ],
          "histogram2dcontour": [
           {
            "colorbar": {
             "outlinewidth": 0,
             "ticks": ""
            },
            "colorscale": [
             [
              0,
              "#0d0887"
             ],
             [
              0.1111111111111111,
              "#46039f"
             ],
             [
              0.2222222222222222,
              "#7201a8"
             ],
             [
              0.3333333333333333,
              "#9c179e"
             ],
             [
              0.4444444444444444,
              "#bd3786"
             ],
             [
              0.5555555555555556,
              "#d8576b"
             ],
             [
              0.6666666666666666,
              "#ed7953"
             ],
             [
              0.7777777777777778,
              "#fb9f3a"
             ],
             [
              0.8888888888888888,
              "#fdca26"
             ],
             [
              1,
              "#f0f921"
             ]
            ],
            "type": "histogram2dcontour"
           }
          ],
          "mesh3d": [
           {
            "colorbar": {
             "outlinewidth": 0,
             "ticks": ""
            },
            "type": "mesh3d"
           }
          ],
          "parcoords": [
           {
            "line": {
             "colorbar": {
              "outlinewidth": 0,
              "ticks": ""
             }
            },
            "type": "parcoords"
           }
          ],
          "pie": [
           {
            "automargin": true,
            "type": "pie"
           }
          ],
          "scatter": [
           {
            "marker": {
             "line": {
              "color": "#283442"
             }
            },
            "type": "scatter"
           }
          ],
          "scatter3d": [
           {
            "line": {
             "colorbar": {
              "outlinewidth": 0,
              "ticks": ""
             }
            },
            "marker": {
             "colorbar": {
              "outlinewidth": 0,
              "ticks": ""
             }
            },
            "type": "scatter3d"
           }
          ],
          "scattercarpet": [
           {
            "marker": {
             "colorbar": {
              "outlinewidth": 0,
              "ticks": ""
             }
            },
            "type": "scattercarpet"
           }
          ],
          "scattergeo": [
           {
            "marker": {
             "colorbar": {
              "outlinewidth": 0,
              "ticks": ""
             }
            },
            "type": "scattergeo"
           }
          ],
          "scattergl": [
           {
            "marker": {
             "line": {
              "color": "#283442"
             }
            },
            "type": "scattergl"
           }
          ],
          "scattermap": [
           {
            "marker": {
             "colorbar": {
              "outlinewidth": 0,
              "ticks": ""
             }
            },
            "type": "scattermap"
           }
          ],
          "scattermapbox": [
           {
            "marker": {
             "colorbar": {
              "outlinewidth": 0,
              "ticks": ""
             }
            },
            "type": "scattermapbox"
           }
          ],
          "scatterpolar": [
           {
            "marker": {
             "colorbar": {
              "outlinewidth": 0,
              "ticks": ""
             }
            },
            "type": "scatterpolar"
           }
          ],
          "scatterpolargl": [
           {
            "marker": {
             "colorbar": {
              "outlinewidth": 0,
              "ticks": ""
             }
            },
            "type": "scatterpolargl"
           }
          ],
          "scatterternary": [
           {
            "marker": {
             "colorbar": {
              "outlinewidth": 0,
              "ticks": ""
             }
            },
            "type": "scatterternary"
           }
          ],
          "surface": [
           {
            "colorbar": {
             "outlinewidth": 0,
             "ticks": ""
            },
            "colorscale": [
             [
              0,
              "#0d0887"
             ],
             [
              0.1111111111111111,
              "#46039f"
             ],
             [
              0.2222222222222222,
              "#7201a8"
             ],
             [
              0.3333333333333333,
              "#9c179e"
             ],
             [
              0.4444444444444444,
              "#bd3786"
             ],
             [
              0.5555555555555556,
              "#d8576b"
             ],
             [
              0.6666666666666666,
              "#ed7953"
             ],
             [
              0.7777777777777778,
              "#fb9f3a"
             ],
             [
              0.8888888888888888,
              "#fdca26"
             ],
             [
              1,
              "#f0f921"
             ]
            ],
            "type": "surface"
           }
          ],
          "table": [
           {
            "cells": {
             "fill": {
              "color": "#506784"
             },
             "line": {
              "color": "rgb(17,17,17)"
             }
            },
            "header": {
             "fill": {
              "color": "#2a3f5f"
             },
             "line": {
              "color": "rgb(17,17,17)"
             }
            },
            "type": "table"
           }
          ]
         },
         "layout": {
          "annotationdefaults": {
           "arrowcolor": "#f2f5fa",
           "arrowhead": 0,
           "arrowwidth": 1
          },
          "autotypenumbers": "strict",
          "coloraxis": {
           "colorbar": {
            "outlinewidth": 0,
            "ticks": ""
           }
          },
          "colorscale": {
           "diverging": [
            [
             0,
             "#8e0152"
            ],
            [
             0.1,
             "#c51b7d"
            ],
            [
             0.2,
             "#de77ae"
            ],
            [
             0.3,
             "#f1b6da"
            ],
            [
             0.4,
             "#fde0ef"
            ],
            [
             0.5,
             "#f7f7f7"
            ],
            [
             0.6,
             "#e6f5d0"
            ],
            [
             0.7,
             "#b8e186"
            ],
            [
             0.8,
             "#7fbc41"
            ],
            [
             0.9,
             "#4d9221"
            ],
            [
             1,
             "#276419"
            ]
           ],
           "sequential": [
            [
             0,
             "#0d0887"
            ],
            [
             0.1111111111111111,
             "#46039f"
            ],
            [
             0.2222222222222222,
             "#7201a8"
            ],
            [
             0.3333333333333333,
             "#9c179e"
            ],
            [
             0.4444444444444444,
             "#bd3786"
            ],
            [
             0.5555555555555556,
             "#d8576b"
            ],
            [
             0.6666666666666666,
             "#ed7953"
            ],
            [
             0.7777777777777778,
             "#fb9f3a"
            ],
            [
             0.8888888888888888,
             "#fdca26"
            ],
            [
             1,
             "#f0f921"
            ]
           ],
           "sequentialminus": [
            [
             0,
             "#0d0887"
            ],
            [
             0.1111111111111111,
             "#46039f"
            ],
            [
             0.2222222222222222,
             "#7201a8"
            ],
            [
             0.3333333333333333,
             "#9c179e"
            ],
            [
             0.4444444444444444,
             "#bd3786"
            ],
            [
             0.5555555555555556,
             "#d8576b"
            ],
            [
             0.6666666666666666,
             "#ed7953"
            ],
            [
             0.7777777777777778,
             "#fb9f3a"
            ],
            [
             0.8888888888888888,
             "#fdca26"
            ],
            [
             1,
             "#f0f921"
            ]
           ]
          },
          "colorway": [
           "#636efa",
           "#EF553B",
           "#00cc96",
           "#ab63fa",
           "#FFA15A",
           "#19d3f3",
           "#FF6692",
           "#B6E880",
           "#FF97FF",
           "#FECB52"
          ],
          "font": {
           "color": "#f2f5fa"
          },
          "geo": {
           "bgcolor": "rgb(17,17,17)",
           "lakecolor": "rgb(17,17,17)",
           "landcolor": "rgb(17,17,17)",
           "showlakes": true,
           "showland": true,
           "subunitcolor": "#506784"
          },
          "hoverlabel": {
           "align": "left"
          },
          "hovermode": "closest",
          "mapbox": {
           "style": "dark"
          },
          "paper_bgcolor": "rgb(17,17,17)",
          "plot_bgcolor": "rgb(17,17,17)",
          "polar": {
           "angularaxis": {
            "gridcolor": "#506784",
            "linecolor": "#506784",
            "ticks": ""
           },
           "bgcolor": "rgb(17,17,17)",
           "radialaxis": {
            "gridcolor": "#506784",
            "linecolor": "#506784",
            "ticks": ""
           }
          },
          "scene": {
           "xaxis": {
            "backgroundcolor": "rgb(17,17,17)",
            "gridcolor": "#506784",
            "gridwidth": 2,
            "linecolor": "#506784",
            "showbackground": true,
            "ticks": "",
            "zerolinecolor": "#C8D4E3"
           },
           "yaxis": {
            "backgroundcolor": "rgb(17,17,17)",
            "gridcolor": "#506784",
            "gridwidth": 2,
            "linecolor": "#506784",
            "showbackground": true,
            "ticks": "",
            "zerolinecolor": "#C8D4E3"
           },
           "zaxis": {
            "backgroundcolor": "rgb(17,17,17)",
            "gridcolor": "#506784",
            "gridwidth": 2,
            "linecolor": "#506784",
            "showbackground": true,
            "ticks": "",
            "zerolinecolor": "#C8D4E3"
           }
          },
          "shapedefaults": {
           "line": {
            "color": "#f2f5fa"
           }
          },
          "sliderdefaults": {
           "bgcolor": "#C8D4E3",
           "bordercolor": "rgb(17,17,17)",
           "borderwidth": 1,
           "tickwidth": 0
          },
          "ternary": {
           "aaxis": {
            "gridcolor": "#506784",
            "linecolor": "#506784",
            "ticks": ""
           },
           "baxis": {
            "gridcolor": "#506784",
            "linecolor": "#506784",
            "ticks": ""
           },
           "bgcolor": "rgb(17,17,17)",
           "caxis": {
            "gridcolor": "#506784",
            "linecolor": "#506784",
            "ticks": ""
           }
          },
          "title": {
           "x": 0.05
          },
          "updatemenudefaults": {
           "bgcolor": "#506784",
           "borderwidth": 0
          },
          "xaxis": {
           "automargin": true,
           "gridcolor": "#283442",
           "linecolor": "#506784",
           "ticks": "",
           "title": {
            "standoff": 15
           },
           "zerolinecolor": "#283442",
           "zerolinewidth": 2
          },
          "yaxis": {
           "automargin": true,
           "gridcolor": "#283442",
           "linecolor": "#506784",
           "ticks": "",
           "title": {
            "standoff": 15
           },
           "zerolinecolor": "#283442",
           "zerolinewidth": 2
          }
         }
        },
        "title": {
         "text": "Iterations per second (higher is better) - 512x512 Gens"
        },
        "width": 1000,
        "xaxis": {
         "anchor": "y",
         "domain": [
          0,
          1
         ],
         "title": {
          "text": "Iterations per second"
         }
        },
        "yaxis": {
         "anchor": "x",
         "categoryorder": "total ascending",
         "domain": [
          0,
          1
         ],
         "ticksuffix": "  ",
         "title": {
          "text": "GPU"
         }
        }
       }
      }
     },
     "metadata": {},
     "output_type": "display_data"
    }
   ],
   "source": [
    "title = 'Iterations per second (higher is better) - 512x512 Gens'\n",
    "fig = px.bar(df_res5, y=df_res5.index, x='best_score', orientation='h', color=\"price_dollars\",  text_auto=True, color_continuous_scale ='darkmint', opacity=1)\n",
    "fig.update_layout(\n",
    "    legend=dict(yanchor=\"top\", y=0.9, xanchor=\"left\", x=1.2), \n",
    "    yaxis_title='GPU', \n",
    "    title=title,\n",
    "    xaxis_title='Iterations per second',\n",
    "    width=1000,\n",
    "    height=900,\n",
    "    yaxis={'categoryorder': 'total ascending'},    \n",
    "    margin = dict(l = 200, r =100, b = 100, t = 100)\n",
    ")\n",
    "fig.update_yaxes(ticksuffix = \"  \")\n",
    "\n",
    "filename = prepare_image_path(title)\n",
    "fig.write_image(filename, scale = 2.0, width=1000, height=900)\n",
    "\n",
    "fig.show()"
   ]
  },
  {
   "cell_type": "markdown",
   "metadata": {},
   "source": [
    "Visualize seconds to generate an 512x512 image with 25 steps"
   ]
  },
  {
   "cell_type": "code",
   "execution_count": 34,
   "metadata": {},
   "outputs": [
    {
     "data": {
      "application/vnd.plotly.v1+json": {
       "config": {
        "plotlyServerURL": "https://plot.ly"
       },
       "data": [
        {
         "hovertemplate": "imgs_s=%{x}<br>index=%{y}<br>price_dollars=%{marker.color}<extra></extra>",
         "legendgroup": "",
         "marker": {
          "color": {
           "bdata": "yADiAP8AFwFdAY8BUwGJAoUBewHfAfMBeQGJAo8BeAVOAnUCvwFhAsoBgwMqA68EOgWwBGoHQAY=",
           "dtype": "i2"
          },
          "coloraxis": "coloraxis",
          "opacity": 1,
          "pattern": {
           "shape": ""
          }
         },
         "name": "",
         "orientation": "h",
         "showlegend": false,
         "textposition": "auto",
         "texttemplate": "%{x}",
         "type": "bar",
         "x": {
          "bdata": "hetRuB6FNEBxPQrXo3AYQGZmZmZmZhNAhetRuB6FEUBcj8L1KFwRQPYoXI/C9Q5A7FG4HoXrDUCPwvUoXI8MQClcj8L1KAxAcT0K16NwC0BI4XoUrkcLQLgehetRuARAUrgehetRBECamZmZmZkDQAAAAAAAAAJAhetRuB6FAUD2KFyPwvUAQLgehetRuABAAAAAAAAAAEBSuB6F61H8P2ZmZmZmZvo/16NwPQrX9z+F61G4HoX3P5qZmZmZmfU/pHA9Ctej9D/D9Shcj8LxP83MzMzMzPA/uB6F61G45j8=",
          "dtype": "f8"
         },
         "xaxis": "x",
         "y": [
          "NVIDIA 1060 | 6GB",
          "AMD 6650 XT | 8GB",
          "NVIDIA 3050 | 8GB",
          "AMD 6600 XT | 8GB",
          "AMD 6700 XT | 12GB",
          "NVIDIA 2070 | 8GB",
          "NVIDIA 2060 | 12GB",
          "NVIDIA 2080 | 8GB",
          "AMD 6750 XT | 12GB",
          "NVIDIA 3060 | 12GB",
          "AMD 6800 | 16GB",
          "AMD 6800 XT | 16GB",
          "NVIDIA 3060 Ti | 8GB",
          "AMD 6900 XT | 16GB",
          "NVIDIA 4060 Ti | 8GB",
          "NVIDIA 2080 Ti | 11GB",
          "NVIDIA 3070 Ti | 8GB",
          "AMD 6950 XT | 16GB",
          "NVIDIA 3070 | 8GB",
          "NVIDIA 4070 | 12GB",
          "NVIDIA 3080 | 10GB",
          "NVIDIA 3080 | 12GB",
          "NVIDIA 4070 Ti | 12GB",
          "NVIDIA 3080 Ti | 12GB",
          "NVIDIA 3090 | 24GB",
          "NVIDIA 4080 | 16GB",
          "NVIDIA 3090 Ti | 24GB",
          "NVIDIA 4090 | 24GB"
         ],
         "yaxis": "y"
        }
       ],
       "layout": {
        "barmode": "relative",
        "coloraxis": {
         "colorbar": {
          "title": {
           "text": "price_dollars"
          }
         },
         "colorscale": [
          [
           0,
           "rgb(210, 251, 212)"
          ],
          [
           0.16666666666666666,
           "rgb(165, 219, 194)"
          ],
          [
           0.3333333333333333,
           "rgb(123, 188, 176)"
          ],
          [
           0.5,
           "rgb(85, 156, 158)"
          ],
          [
           0.6666666666666666,
           "rgb(58, 124, 137)"
          ],
          [
           0.8333333333333334,
           "rgb(35, 93, 114)"
          ],
          [
           1,
           "rgb(18, 63, 90)"
          ]
         ]
        },
        "height": 900,
        "legend": {
         "tracegroupgap": 0,
         "x": 1.2,
         "xanchor": "left",
         "y": 0.9,
         "yanchor": "top"
        },
        "margin": {
         "b": 100,
         "l": 200,
         "r": 100,
         "t": 100
        },
        "template": {
         "data": {
          "bar": [
           {
            "error_x": {
             "color": "#f2f5fa"
            },
            "error_y": {
             "color": "#f2f5fa"
            },
            "marker": {
             "line": {
              "color": "rgb(17,17,17)",
              "width": 0.5
             },
             "pattern": {
              "fillmode": "overlay",
              "size": 10,
              "solidity": 0.2
             }
            },
            "type": "bar"
           }
          ],
          "barpolar": [
           {
            "marker": {
             "line": {
              "color": "rgb(17,17,17)",
              "width": 0.5
             },
             "pattern": {
              "fillmode": "overlay",
              "size": 10,
              "solidity": 0.2
             }
            },
            "type": "barpolar"
           }
          ],
          "carpet": [
           {
            "aaxis": {
             "endlinecolor": "#A2B1C6",
             "gridcolor": "#506784",
             "linecolor": "#506784",
             "minorgridcolor": "#506784",
             "startlinecolor": "#A2B1C6"
            },
            "baxis": {
             "endlinecolor": "#A2B1C6",
             "gridcolor": "#506784",
             "linecolor": "#506784",
             "minorgridcolor": "#506784",
             "startlinecolor": "#A2B1C6"
            },
            "type": "carpet"
           }
          ],
          "choropleth": [
           {
            "colorbar": {
             "outlinewidth": 0,
             "ticks": ""
            },
            "type": "choropleth"
           }
          ],
          "contour": [
           {
            "colorbar": {
             "outlinewidth": 0,
             "ticks": ""
            },
            "colorscale": [
             [
              0,
              "#0d0887"
             ],
             [
              0.1111111111111111,
              "#46039f"
             ],
             [
              0.2222222222222222,
              "#7201a8"
             ],
             [
              0.3333333333333333,
              "#9c179e"
             ],
             [
              0.4444444444444444,
              "#bd3786"
             ],
             [
              0.5555555555555556,
              "#d8576b"
             ],
             [
              0.6666666666666666,
              "#ed7953"
             ],
             [
              0.7777777777777778,
              "#fb9f3a"
             ],
             [
              0.8888888888888888,
              "#fdca26"
             ],
             [
              1,
              "#f0f921"
             ]
            ],
            "type": "contour"
           }
          ],
          "contourcarpet": [
           {
            "colorbar": {
             "outlinewidth": 0,
             "ticks": ""
            },
            "type": "contourcarpet"
           }
          ],
          "heatmap": [
           {
            "colorbar": {
             "outlinewidth": 0,
             "ticks": ""
            },
            "colorscale": [
             [
              0,
              "#0d0887"
             ],
             [
              0.1111111111111111,
              "#46039f"
             ],
             [
              0.2222222222222222,
              "#7201a8"
             ],
             [
              0.3333333333333333,
              "#9c179e"
             ],
             [
              0.4444444444444444,
              "#bd3786"
             ],
             [
              0.5555555555555556,
              "#d8576b"
             ],
             [
              0.6666666666666666,
              "#ed7953"
             ],
             [
              0.7777777777777778,
              "#fb9f3a"
             ],
             [
              0.8888888888888888,
              "#fdca26"
             ],
             [
              1,
              "#f0f921"
             ]
            ],
            "type": "heatmap"
           }
          ],
          "histogram": [
           {
            "marker": {
             "pattern": {
              "fillmode": "overlay",
              "size": 10,
              "solidity": 0.2
             }
            },
            "type": "histogram"
           }
          ],
          "histogram2d": [
           {
            "colorbar": {
             "outlinewidth": 0,
             "ticks": ""
            },
            "colorscale": [
             [
              0,
              "#0d0887"
             ],
             [
              0.1111111111111111,
              "#46039f"
             ],
             [
              0.2222222222222222,
              "#7201a8"
             ],
             [
              0.3333333333333333,
              "#9c179e"
             ],
             [
              0.4444444444444444,
              "#bd3786"
             ],
             [
              0.5555555555555556,
              "#d8576b"
             ],
             [
              0.6666666666666666,
              "#ed7953"
             ],
             [
              0.7777777777777778,
              "#fb9f3a"
             ],
             [
              0.8888888888888888,
              "#fdca26"
             ],
             [
              1,
              "#f0f921"
             ]
            ],
            "type": "histogram2d"
           }
          ],
          "histogram2dcontour": [
           {
            "colorbar": {
             "outlinewidth": 0,
             "ticks": ""
            },
            "colorscale": [
             [
              0,
              "#0d0887"
             ],
             [
              0.1111111111111111,
              "#46039f"
             ],
             [
              0.2222222222222222,
              "#7201a8"
             ],
             [
              0.3333333333333333,
              "#9c179e"
             ],
             [
              0.4444444444444444,
              "#bd3786"
             ],
             [
              0.5555555555555556,
              "#d8576b"
             ],
             [
              0.6666666666666666,
              "#ed7953"
             ],
             [
              0.7777777777777778,
              "#fb9f3a"
             ],
             [
              0.8888888888888888,
              "#fdca26"
             ],
             [
              1,
              "#f0f921"
             ]
            ],
            "type": "histogram2dcontour"
           }
          ],
          "mesh3d": [
           {
            "colorbar": {
             "outlinewidth": 0,
             "ticks": ""
            },
            "type": "mesh3d"
           }
          ],
          "parcoords": [
           {
            "line": {
             "colorbar": {
              "outlinewidth": 0,
              "ticks": ""
             }
            },
            "type": "parcoords"
           }
          ],
          "pie": [
           {
            "automargin": true,
            "type": "pie"
           }
          ],
          "scatter": [
           {
            "marker": {
             "line": {
              "color": "#283442"
             }
            },
            "type": "scatter"
           }
          ],
          "scatter3d": [
           {
            "line": {
             "colorbar": {
              "outlinewidth": 0,
              "ticks": ""
             }
            },
            "marker": {
             "colorbar": {
              "outlinewidth": 0,
              "ticks": ""
             }
            },
            "type": "scatter3d"
           }
          ],
          "scattercarpet": [
           {
            "marker": {
             "colorbar": {
              "outlinewidth": 0,
              "ticks": ""
             }
            },
            "type": "scattercarpet"
           }
          ],
          "scattergeo": [
           {
            "marker": {
             "colorbar": {
              "outlinewidth": 0,
              "ticks": ""
             }
            },
            "type": "scattergeo"
           }
          ],
          "scattergl": [
           {
            "marker": {
             "line": {
              "color": "#283442"
             }
            },
            "type": "scattergl"
           }
          ],
          "scattermap": [
           {
            "marker": {
             "colorbar": {
              "outlinewidth": 0,
              "ticks": ""
             }
            },
            "type": "scattermap"
           }
          ],
          "scattermapbox": [
           {
            "marker": {
             "colorbar": {
              "outlinewidth": 0,
              "ticks": ""
             }
            },
            "type": "scattermapbox"
           }
          ],
          "scatterpolar": [
           {
            "marker": {
             "colorbar": {
              "outlinewidth": 0,
              "ticks": ""
             }
            },
            "type": "scatterpolar"
           }
          ],
          "scatterpolargl": [
           {
            "marker": {
             "colorbar": {
              "outlinewidth": 0,
              "ticks": ""
             }
            },
            "type": "scatterpolargl"
           }
          ],
          "scatterternary": [
           {
            "marker": {
             "colorbar": {
              "outlinewidth": 0,
              "ticks": ""
             }
            },
            "type": "scatterternary"
           }
          ],
          "surface": [
           {
            "colorbar": {
             "outlinewidth": 0,
             "ticks": ""
            },
            "colorscale": [
             [
              0,
              "#0d0887"
             ],
             [
              0.1111111111111111,
              "#46039f"
             ],
             [
              0.2222222222222222,
              "#7201a8"
             ],
             [
              0.3333333333333333,
              "#9c179e"
             ],
             [
              0.4444444444444444,
              "#bd3786"
             ],
             [
              0.5555555555555556,
              "#d8576b"
             ],
             [
              0.6666666666666666,
              "#ed7953"
             ],
             [
              0.7777777777777778,
              "#fb9f3a"
             ],
             [
              0.8888888888888888,
              "#fdca26"
             ],
             [
              1,
              "#f0f921"
             ]
            ],
            "type": "surface"
           }
          ],
          "table": [
           {
            "cells": {
             "fill": {
              "color": "#506784"
             },
             "line": {
              "color": "rgb(17,17,17)"
             }
            },
            "header": {
             "fill": {
              "color": "#2a3f5f"
             },
             "line": {
              "color": "rgb(17,17,17)"
             }
            },
            "type": "table"
           }
          ]
         },
         "layout": {
          "annotationdefaults": {
           "arrowcolor": "#f2f5fa",
           "arrowhead": 0,
           "arrowwidth": 1
          },
          "autotypenumbers": "strict",
          "coloraxis": {
           "colorbar": {
            "outlinewidth": 0,
            "ticks": ""
           }
          },
          "colorscale": {
           "diverging": [
            [
             0,
             "#8e0152"
            ],
            [
             0.1,
             "#c51b7d"
            ],
            [
             0.2,
             "#de77ae"
            ],
            [
             0.3,
             "#f1b6da"
            ],
            [
             0.4,
             "#fde0ef"
            ],
            [
             0.5,
             "#f7f7f7"
            ],
            [
             0.6,
             "#e6f5d0"
            ],
            [
             0.7,
             "#b8e186"
            ],
            [
             0.8,
             "#7fbc41"
            ],
            [
             0.9,
             "#4d9221"
            ],
            [
             1,
             "#276419"
            ]
           ],
           "sequential": [
            [
             0,
             "#0d0887"
            ],
            [
             0.1111111111111111,
             "#46039f"
            ],
            [
             0.2222222222222222,
             "#7201a8"
            ],
            [
             0.3333333333333333,
             "#9c179e"
            ],
            [
             0.4444444444444444,
             "#bd3786"
            ],
            [
             0.5555555555555556,
             "#d8576b"
            ],
            [
             0.6666666666666666,
             "#ed7953"
            ],
            [
             0.7777777777777778,
             "#fb9f3a"
            ],
            [
             0.8888888888888888,
             "#fdca26"
            ],
            [
             1,
             "#f0f921"
            ]
           ],
           "sequentialminus": [
            [
             0,
             "#0d0887"
            ],
            [
             0.1111111111111111,
             "#46039f"
            ],
            [
             0.2222222222222222,
             "#7201a8"
            ],
            [
             0.3333333333333333,
             "#9c179e"
            ],
            [
             0.4444444444444444,
             "#bd3786"
            ],
            [
             0.5555555555555556,
             "#d8576b"
            ],
            [
             0.6666666666666666,
             "#ed7953"
            ],
            [
             0.7777777777777778,
             "#fb9f3a"
            ],
            [
             0.8888888888888888,
             "#fdca26"
            ],
            [
             1,
             "#f0f921"
            ]
           ]
          },
          "colorway": [
           "#636efa",
           "#EF553B",
           "#00cc96",
           "#ab63fa",
           "#FFA15A",
           "#19d3f3",
           "#FF6692",
           "#B6E880",
           "#FF97FF",
           "#FECB52"
          ],
          "font": {
           "color": "#f2f5fa"
          },
          "geo": {
           "bgcolor": "rgb(17,17,17)",
           "lakecolor": "rgb(17,17,17)",
           "landcolor": "rgb(17,17,17)",
           "showlakes": true,
           "showland": true,
           "subunitcolor": "#506784"
          },
          "hoverlabel": {
           "align": "left"
          },
          "hovermode": "closest",
          "mapbox": {
           "style": "dark"
          },
          "paper_bgcolor": "rgb(17,17,17)",
          "plot_bgcolor": "rgb(17,17,17)",
          "polar": {
           "angularaxis": {
            "gridcolor": "#506784",
            "linecolor": "#506784",
            "ticks": ""
           },
           "bgcolor": "rgb(17,17,17)",
           "radialaxis": {
            "gridcolor": "#506784",
            "linecolor": "#506784",
            "ticks": ""
           }
          },
          "scene": {
           "xaxis": {
            "backgroundcolor": "rgb(17,17,17)",
            "gridcolor": "#506784",
            "gridwidth": 2,
            "linecolor": "#506784",
            "showbackground": true,
            "ticks": "",
            "zerolinecolor": "#C8D4E3"
           },
           "yaxis": {
            "backgroundcolor": "rgb(17,17,17)",
            "gridcolor": "#506784",
            "gridwidth": 2,
            "linecolor": "#506784",
            "showbackground": true,
            "ticks": "",
            "zerolinecolor": "#C8D4E3"
           },
           "zaxis": {
            "backgroundcolor": "rgb(17,17,17)",
            "gridcolor": "#506784",
            "gridwidth": 2,
            "linecolor": "#506784",
            "showbackground": true,
            "ticks": "",
            "zerolinecolor": "#C8D4E3"
           }
          },
          "shapedefaults": {
           "line": {
            "color": "#f2f5fa"
           }
          },
          "sliderdefaults": {
           "bgcolor": "#C8D4E3",
           "bordercolor": "rgb(17,17,17)",
           "borderwidth": 1,
           "tickwidth": 0
          },
          "ternary": {
           "aaxis": {
            "gridcolor": "#506784",
            "linecolor": "#506784",
            "ticks": ""
           },
           "baxis": {
            "gridcolor": "#506784",
            "linecolor": "#506784",
            "ticks": ""
           },
           "bgcolor": "rgb(17,17,17)",
           "caxis": {
            "gridcolor": "#506784",
            "linecolor": "#506784",
            "ticks": ""
           }
          },
          "title": {
           "x": 0.05
          },
          "updatemenudefaults": {
           "bgcolor": "#506784",
           "borderwidth": 0
          },
          "xaxis": {
           "automargin": true,
           "gridcolor": "#283442",
           "linecolor": "#506784",
           "ticks": "",
           "title": {
            "standoff": 15
           },
           "zerolinecolor": "#283442",
           "zerolinewidth": 2
          },
          "yaxis": {
           "automargin": true,
           "gridcolor": "#283442",
           "linecolor": "#506784",
           "ticks": "",
           "title": {
            "standoff": 15
           },
           "zerolinecolor": "#283442",
           "zerolinewidth": 2
          }
         }
        },
        "title": {
         "text": "Seconds per image (lower is better) - 512x512 Gens"
        },
        "width": 1000,
        "xaxis": {
         "anchor": "y",
         "domain": [
          0,
          1
         ],
         "title": {
          "text": "Seconds"
         }
        },
        "yaxis": {
         "anchor": "x",
         "categoryorder": "total descending",
         "domain": [
          0,
          1
         ],
         "ticksuffix": "  ",
         "title": {
          "text": "GPU"
         }
        }
       }
      }
     },
     "metadata": {},
     "output_type": "display_data"
    }
   ],
   "source": [
    "title = 'Seconds per image (lower is better) - 512x512 Gens'\n",
    "steps_per_image = 25\n",
    "df_res5['imgs_s'] = (1 / (df_res5['best_score'] / steps_per_image)).round(2)\n",
    "\n",
    "fig = px.bar(df_res5, y=df_res5.index, x='imgs_s', orientation='h', color=\"price_dollars\",  text_auto=True, color_continuous_scale ='darkmint', opacity=1)\n",
    "fig.update_layout(\n",
    "    legend=dict(yanchor=\"top\", y=0.9, xanchor=\"left\", x=1.2), \n",
    "    yaxis_title='GPU', \n",
    "    title=title,\n",
    "    xaxis_title='Seconds',\n",
    "    width=1000,\n",
    "    height=900,\n",
    "    yaxis={'categoryorder': 'total descending'},    \n",
    "    margin = dict(l = 200, r =100, b = 100, t = 100)\n",
    ")\n",
    "fig.update_yaxes(ticksuffix = \"  \")\n",
    "\n",
    "filename = prepare_image_path(title)\n",
    "fig.write_image(filename, scale = 2.0, width=1000, height=900)\n",
    "fig.show()"
   ]
  },
  {
   "cell_type": "markdown",
   "metadata": {},
   "source": [
    "Export results to csv"
   ]
  },
  {
   "cell_type": "code",
   "execution_count": 35,
   "metadata": {},
   "outputs": [],
   "source": [
    "combined = df_res5.drop(columns='colors')\n",
    "combined.to_csv(f'{output_dir}/combined_results.csv')"
   ]
  },
  {
   "cell_type": "markdown",
   "metadata": {},
   "source": [
    "# Works by other authors:\n",
    "\n",
    "Youtube - [The Best Price To Performance Gpu For Stable Diffusion | Best Stable Diffusion Gpu](https://www.youtube.com/watch?v=XfiS7Taeaww)\n",
    "\n",
    "Youtube - [What GPU do I need for Stable Diffusion? GPU / Graphics card Performance Benchmark](https://www.youtube.com/watch?v=glCGnCvUox4)\n",
    "\n",
    "Youtube - [Choose the Best Graphics Card for Stable Diffusion](https://www.youtube.com/watch?v=L1oL-kI12Yw)\n"
   ]
  },
  {
   "cell_type": "markdown",
   "metadata": {},
   "source": [
    "# Conclusion\n",
    "\n",
    "In this analysis, we examined data collected by the SD WebUI Extension from users of the A1111 WebUI, which is gathered automatically through **crowdsourcing**.\n",
    "\n",
    "We calculated a ratio of performance (measured in iterations per second) to price to represent the value of each GPU card. This metric, often referred to as “value,” takes into account both the performance and cost of each card.\n",
    "\n",
    "Our goal was to identify the optimal GPU card for stable diffusion that offers the most value per dollar. However, it’s important to note that value is a relative measure and depends on how the card will be used. For example, even older cards like the GTX 1060 can successfully run A1111 WebUI. The main advantage of newer cards is the time saved to generate content.\n",
    "\n",
    "For those considering purchasing a GPU card, we suggest considering **two purchase criteria**:\n",
    "\n",
    "- How much is your time worth? Does the time saved with a faster card justify the cost?\n",
    "- How much are you willing to pay per month for the features offered by the card? If you plan to use the card for 5 years, does the GPU cost cancels out with the amount you would otherwise spend on a third service that provides those features?"
   ]
  }
 ],
 "metadata": {
  "kernelspec": {
   "display_name": "py312ds (3.12.9)",
   "language": "python",
   "name": "python3"
  },
  "language_info": {
   "codemirror_mode": {
    "name": "ipython",
    "version": 3
   },
   "file_extension": ".py",
   "mimetype": "text/x-python",
   "name": "python",
   "nbconvert_exporter": "python",
   "pygments_lexer": "ipython3",
   "version": "3.12.9"
  },
  "orig_nbformat": 4
 },
 "nbformat": 4,
 "nbformat_minor": 2
}
